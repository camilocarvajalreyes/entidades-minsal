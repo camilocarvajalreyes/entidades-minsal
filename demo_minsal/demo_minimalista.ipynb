{
 "cells": [
  {
   "cell_type": "code",
   "execution_count": 1,
   "metadata": {},
   "outputs": [],
   "source": [
    "from predicciones import etiquetar"
   ]
  },
  {
   "cell_type": "code",
   "execution_count": 2,
   "metadata": {},
   "outputs": [
    {
     "name": "stdout",
     "output_type": "stream",
     "text": [
      "B-ACTIVE_PRINCIPLE\tB-FORMA_FARMA\tI-FORMA_FARMA\tI-FORMA_FARMA\tB-CANT\tB-UND\tB-VIA_ADMIN\tB-PERIODICITY\tI-PERIODICITY\tI-PERIODICITY\tB-DURATION\tI-DURATION\tI-DURATION\n",
      "PARACETAMOL\t500\tMG\tCOMPRIMIDO\t1\tCOMPRIMIDO\tORAL\tcada\t6\thoras\tdurante\t3\tdias\n"
     ]
    }
   ],
   "source": [
    "text = \"PARACETAMOL 500 MG COMPRIMIDO 1 COMPRIMIDO ORAL cada 6 horas durante 3 dias\"\n",
    "\n",
    "etiquetar(text)"
   ]
  }
 ],
 "metadata": {
  "kernelspec": {
   "display_name": "entidades_env",
   "language": "python",
   "name": "entidades_env"
  },
  "language_info": {
   "codemirror_mode": {
    "name": "ipython",
    "version": 3
   },
   "file_extension": ".py",
   "mimetype": "text/x-python",
   "name": "python",
   "nbconvert_exporter": "python",
   "pygments_lexer": "ipython3",
   "version": "3.9.13"
  },
  "orig_nbformat": 4,
  "vscode": {
   "interpreter": {
    "hash": "60cab8a6eccdbb291cd8546425070b6bbfbad3cae25f59923f3919ec9d23e6db"
   }
  }
 },
 "nbformat": 4,
 "nbformat_minor": 2
}
