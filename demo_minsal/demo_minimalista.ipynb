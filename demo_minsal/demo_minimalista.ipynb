{
 "cells": [
  {
   "cell_type": "code",
   "execution_count": 1,
   "metadata": {},
   "outputs": [],
   "source": [
    "from predicciones import etiquetar"
   ]
  },
  {
   "cell_type": "code",
   "execution_count": 2,
   "metadata": {},
   "outputs": [
    {
     "data": {
      "text/html": [
       "<style type=\"text/css\">\n",
       "#T_5ad2b th {\n",
       "  text-align: center;\n",
       "}\n",
       "</style>\n",
       "<table id=\"T_5ad2b\">\n",
       "  <thead>\n",
       "    <tr>\n",
       "      <th id=\"T_5ad2b_level0_col0\" class=\"col_heading level0 col0\" >ACTIVE_PRINCIPLE</th>\n",
       "      <th id=\"T_5ad2b_level0_col1\" class=\"col_heading level0 col1\" >FORMA_FARMA</th>\n",
       "      <th id=\"T_5ad2b_level0_col2\" class=\"col_heading level0 col2\" >CANT-ADMIN</th>\n",
       "      <th id=\"T_5ad2b_level0_col3\" class=\"col_heading level0 col3\" >UND-ADMIN</th>\n",
       "      <th id=\"T_5ad2b_level0_col4\" class=\"col_heading level0 col4\" >VIA-ADMIN</th>\n",
       "      <th id=\"T_5ad2b_level0_col5\" class=\"col_heading level0 col5\" >PERIODICITY</th>\n",
       "      <th id=\"T_5ad2b_level0_col6\" class=\"col_heading level0 col6\" >DURATION</th>\n",
       "    </tr>\n",
       "  </thead>\n",
       "  <tbody>\n",
       "    <tr>\n",
       "      <td id=\"T_5ad2b_row0_col0\" class=\"data row0 col0\" > PARACETAMOL</td>\n",
       "      <td id=\"T_5ad2b_row0_col1\" class=\"data row0 col1\" > 500 MG COMPRIMIDO</td>\n",
       "      <td id=\"T_5ad2b_row0_col2\" class=\"data row0 col2\" > 1</td>\n",
       "      <td id=\"T_5ad2b_row0_col3\" class=\"data row0 col3\" > COMPRIMIDO</td>\n",
       "      <td id=\"T_5ad2b_row0_col4\" class=\"data row0 col4\" > ORAL</td>\n",
       "      <td id=\"T_5ad2b_row0_col5\" class=\"data row0 col5\" > cada 6 horas</td>\n",
       "      <td id=\"T_5ad2b_row0_col6\" class=\"data row0 col6\" > durante 3 dias</td>\n",
       "    </tr>\n",
       "  </tbody>\n",
       "</table>\n"
      ],
      "text/plain": [
       "<pandas.io.formats.style.Styler at 0x7f6c2437ef70>"
      ]
     },
     "execution_count": 2,
     "metadata": {},
     "output_type": "execute_result"
    }
   ],
   "source": [
    "text = \"PARACETAMOL 500 MG COMPRIMIDO 1 COMPRIMIDO ORAL cada 6 horas durante 3 dias\"\n",
    "\n",
    "etiquetar(text)"
   ]
  }
 ],
 "metadata": {
  "kernelspec": {
   "display_name": "entidades_env",
   "language": "python",
   "name": "entidades_env"
  },
  "language_info": {
   "codemirror_mode": {
    "name": "ipython",
    "version": 3
   },
   "file_extension": ".py",
   "mimetype": "text/x-python",
   "name": "python",
   "nbconvert_exporter": "python",
   "pygments_lexer": "ipython3",
   "version": "3.9.13"
  },
  "orig_nbformat": 4,
  "vscode": {
   "interpreter": {
    "hash": "60cab8a6eccdbb291cd8546425070b6bbfbad3cae25f59923f3919ec9d23e6db"
   }
  }
 },
 "nbformat": 4,
 "nbformat_minor": 2
}
