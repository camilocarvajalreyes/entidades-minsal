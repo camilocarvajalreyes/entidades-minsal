{
  "nbformat": 4,
  "nbformat_minor": 0,
  "metadata": {
    "colab": {
      "provenance": []
    },
    "kernelspec": {
      "name": "python3",
      "display_name": "Python 3"
    },
    "language_info": {
      "name": "python"
    }
  },
  "cells": [
    {
      "cell_type": "code",
      "execution_count": null,
      "metadata": {
        "id": "q-BsCFWo-gWX"
      },
      "outputs": [],
      "source": [
        "import pandas as pd\n",
        "import numpy as np\n",
        "import matplotlib.pyplot as plt"
      ]
    },
    {
      "cell_type": "code",
      "source": [
        "#Descarga de datos\n",
        "!gdown --id '1vcYj7xDwH38AZ8L2AHp-zdqddK-KeaVI'\n",
        "!gdown --id '1pyy6OWkNxbLsfaIRqzMD06aGqPTIc_DG'"
      ],
      "metadata": {
        "colab": {
          "base_uri": "https://localhost:8080/"
        },
        "id": "qiLE7mDI-34N",
        "outputId": "e95261b5-d5d1-4976-88b4-a9116f652d49"
      },
      "execution_count": null,
      "outputs": [
        {
          "output_type": "stream",
          "name": "stdout",
          "text": [
            "/usr/local/lib/python3.7/dist-packages/gdown/cli.py:131: FutureWarning: Option `--id` was deprecated in version 4.3.1 and will be removed in 5.0. You don't need to pass it anymore to use a file ID.\n",
            "  category=FutureWarning,\n",
            "Downloading...\n",
            "From: https://drive.google.com/uc?id=1vcYj7xDwH38AZ8L2AHp-zdqddK-KeaVI\n",
            "To: /content/DATA_HLF_MDS_2.csv\n",
            "100% 477M/477M [00:03<00:00, 142MB/s]\n",
            "/usr/local/lib/python3.7/dist-packages/gdown/cli.py:131: FutureWarning: Option `--id` was deprecated in version 4.3.1 and will be removed in 5.0. You don't need to pass it anymore to use a file ID.\n",
            "  category=FutureWarning,\n",
            "Downloading...\n",
            "From: https://drive.google.com/uc?id=1pyy6OWkNxbLsfaIRqzMD06aGqPTIc_DG\n",
            "To: /content/PRINCIPIOS_ACTIVOS_MDS.xlsx\n",
            "100% 69.2k/69.2k [00:00<00:00, 40.0MB/s]\n"
          ]
        }
      ]
    },
    {
      "cell_type": "code",
      "source": [
        "#Al importar los datos estan corridos, se puede ver en Resumen y FormaFrama, donde estan corridos en una posicion hacia abajo\n",
        "main_db = pd.read_csv('/content/DATA_HLF_MDS_2.csv',sep=',')"
      ],
      "metadata": {
        "id": "sCS2AmzQ_aIV"
      },
      "execution_count": null,
      "outputs": []
    },
    {
      "cell_type": "code",
      "source": [
        "code_db = pd.read_excel('/content/PRINCIPIOS_ACTIVOS_MDS.xlsx')\n",
        "HLF = code_db.loc[:,['PRINCIPIO_ACTIVO','CODIGO_HLF']]"
      ],
      "metadata": {
        "id": "s9NI1ClMM_Vy"
      },
      "execution_count": null,
      "outputs": []
    },
    {
      "cell_type": "code",
      "source": [
        "HLF2 = HLF['CODIGO_HLF'].str.split(', ')\n",
        "HLF_list = []\n",
        "for i in range(len(HLF2)):\n",
        "  HLF_list = HLF_list + HLF2[i] \n",
        "try:\n",
        "  HLF_list.remove('')\n",
        "except:\n",
        "  pass\n",
        "HLF_name = []\n",
        "for elem in HLF_list:\n",
        "  HLF_name = HLF_name + HLF[HLF['CODIGO_HLF'].str.contains(elem)]['PRINCIPIO_ACTIVO'].values.tolist()"
      ],
      "metadata": {
        "id": "wFLtZJN_NDdn"
      },
      "execution_count": null,
      "outputs": []
    },
    {
      "cell_type": "code",
      "source": [
        "HLF_df = pd.DataFrame()\n",
        "HLF_df['CODIGO_MEDICAMENTO'] = HLF_list\n",
        "HLF_df['PRINCIPIO_ACTIVO'] = HLF_name\n",
        "HLF_df"
      ],
      "metadata": {
        "id": "-risxcu7NG8x"
      },
      "execution_count": null,
      "outputs": []
    },
    {
      "cell_type": "code",
      "source": [
        "df = main_db.join(HLF_df.set_index('CODIGO_MEDICAMENTO'), on='CODIGO_MEDICAMENTO')"
      ],
      "metadata": {
        "id": "O3s1jaCiNKP2"
      },
      "execution_count": null,
      "outputs": []
    },
    {
      "cell_type": "code",
      "source": [
        "corpus = (df['PRES_DENOMINACION']+ ' ' +df['RESUMEN']).dropna().unique()#.to_numpy(dtype= object)"
      ],
      "metadata": {
        "id": "LAgZwdbuNLDv"
      },
      "execution_count": null,
      "outputs": []
    },
    {
      "cell_type": "code",
      "source": [
        "#PARA DETECTAR LA POSICION DE ENTIDADES TIPO PRINCIPIO ACTIVO, FORMA FARMACO SE COMPARARAN LOS ELEMENTOS DEL CORPUS CON LAS LISTAS CORRESPONDIENTES.\n",
        "PA = df['PRINCIPIO_ACTIVO'].dropna().unique()\n",
        "FF = df['FORMA_FARMA'].dropna().unique()\n",
        "\n",
        "#PARA DETECTAR PERIODICIDAD DE ADMIN SE DETECTARA LA PALABRA \"CADA\" Y LA DURACION CON \"DURANTE\" O \"DIARIA\""
      ],
      "metadata": {
        "id": "JiVP7EjuNPnf"
      },
      "execution_count": null,
      "outputs": []
    },
    {
      "cell_type": "code",
      "source": [
        "def split_rule(x):\n",
        "  output = np.array([],dtype=object)\n",
        "  for i in  range(len(x)):\n",
        "    output = np.append(output,x[i].split())\n",
        "  return output"
      ],
      "metadata": {
        "id": "wZbackj3NR15"
      },
      "execution_count": null,
      "outputs": []
    },
    {
      "cell_type": "code",
      "source": [
        "PA1 = np.unique(split_rule(PA))\n",
        "FF1 = np.unique(split_rule(FF))"
      ],
      "metadata": {
        "id": "p4UGZq1xNYIh"
      },
      "execution_count": null,
      "outputs": []
    },
    {
      "cell_type": "code",
      "source": [
        "def generate_column(corpus,PA,FF):\n",
        "  output = np.empty([1744922,2], dtype= object)\n",
        "  idx = 0\n",
        "  for i in range(len(corpus)):\n",
        "    c= corpus[i].split()\n",
        "    j=0\n",
        "    while j < len(c):\n",
        "      if c[j] == 'cada' and c[j+1].isnumeric() :\n",
        "        try:\n",
        "          output[idx] = np.array([c[j], 'B-PERIODICITY'],dtype = object)\n",
        "          output[idx+1] = np.array([c[j+1], 'I-PERIODICITY'],dtype = object)\n",
        "          output[idx+2] = np.array([c[j+2], 'I-PERIODICITY'],dtype = object)\n",
        "          idx += 3\n",
        "          j+=3\n",
        "        except:\n",
        "          output[idx] = np.array([c[j], 'O'],dtype = object)\n",
        "          idx += 1\n",
        "          j+=1\n",
        "      elif c[j] == 'durante' and c[j+1].isnumeric() :\n",
        "        try:\n",
        "          output[idx] = np.array([c[j], 'B-DURATION'],dtype = object)\n",
        "          output[idx+1] = np.array([c[j+1], 'I-DURATION'],dtype = object)\n",
        "          output[idx+2] = np.array([c[j+2], 'I-DURATION'],dtype = object)\n",
        "          idx += 3\n",
        "          j+=3\n",
        "        except:\n",
        "          output[idx] = np.array([c[j], 'O'],dtype = object)\n",
        "          idx += 1\n",
        "          j+=1\n",
        "      elif c[j].lower() in PA or c[j].upper() in PA :\n",
        "        output[idx] = np.array([c[j], 'ACTVPRNCP'],dtype = object)\n",
        "        idx += 1\n",
        "        j+=1\n",
        "      elif c[j].lower() in FF or c[j].upper() in FF :\n",
        "        output[idx] = np.array([c[j], 'ADMIN'],dtype = object)\n",
        "        idx += 1\n",
        "        j+=1\n",
        "      else:\n",
        "        output[idx] = np.array([c[j], 'O'],dtype = object)\n",
        "        idx += 1\n",
        "        j+=1\n",
        "    output[idx] = np.array(['', ''],dtype = object)\n",
        "    idx += 1\n",
        "  return output\n"
      ],
      "metadata": {
        "id": "S_GFt_eaNaG_"
      },
      "execution_count": null,
      "outputs": []
    },
    {
      "cell_type": "code",
      "source": [
        "txt = generate_column(corpus,PA1,FF1)"
      ],
      "metadata": {
        "id": "8Qvjm6IwNiBG"
      },
      "execution_count": null,
      "outputs": []
    },
    {
      "cell_type": "code",
      "source": [
        "for i in range(len(txt)):\n",
        "  if txt[i,0] in ['+','CON','SOLUCIÓN']:\n",
        "    txt[i,1] = txt[i+1,1]"
      ],
      "metadata": {
        "id": "Vaa3afodNkfd"
      },
      "execution_count": null,
      "outputs": []
    },
    {
      "cell_type": "code",
      "source": [
        "for i in range(len(txt)):\n",
        "  if txt[i,1] == 'ADMIN' and txt[i-1,1] == 'B-ADMIN':\n",
        "    txt[i,1] = 'I-ADMIN'\n",
        "  elif txt[i,1] == 'ADMIN':\n",
        "    txt[i,1] = 'B-ADMIN'\n",
        "  elif txt[i,1] == 'ACTVPRNCP' and txt[i-1,1] == 'B-ACTVPRNCP':\n",
        "    txt[i,1] = 'I-ACTVPRNCP'\n",
        "  elif txt[i,1] == 'ACTVPRNCP':\n",
        "    txt[i,1] = 'B-ACTVPRNCP'\n",
        "  else:\n",
        "    pass"
      ],
      "metadata": {
        "id": "ieBQ7jI2Nl73"
      },
      "execution_count": null,
      "outputs": []
    },
    {
      "cell_type": "code",
      "source": [
        "np.savetxt('corpus_recetas.txt',txt,fmt=\"%s\")"
      ],
      "metadata": {
        "id": "y0KSc0RaNn6O"
      },
      "execution_count": null,
      "outputs": []
    }
  ]
}