{
  "cells": [
    {
      "cell_type": "markdown",
      "metadata": {},
      "source": [
        "\n",
        "# Carga de datos\n",
        "\n",
        "### Rutas\n",
        "\n",
        "datos/\n",
        "\n",
        "-DATA_HLF_MDS.csv\n",
        "\n",
        "-cargar_datos.ipynb"
      ]
    },
    {
      "cell_type": "code",
      "execution_count": 1,
      "metadata": {
        "id": "q-BsCFWo-gWX"
      },
      "outputs": [],
      "source": [
        "import pandas as pd\n",
        "import numpy as np\n",
        "import matplotlib.pyplot as plt"
      ]
    },
    {
      "cell_type": "code",
      "execution_count": 2,
      "metadata": {
        "colab": {
          "base_uri": "https://localhost:8080/"
        },
        "id": "sCS2AmzQ_aIV",
        "outputId": "d942d6b9-8ea8-4bae-a86b-3a866f848b3e"
      },
      "outputs": [
        {
          "name": "stdout",
          "output_type": "stream",
          "text": [
            "<class 'pandas.core.frame.DataFrame'>\n",
            "RangeIndex: 1526557 entries, 0 to 1526556\n",
            "Data columns (total 21 columns):\n",
            " #   Column                Non-Null Count    Dtype  \n",
            "---  ------                --------------    -----  \n",
            " 0   index                 1526557 non-null  int64  \n",
            " 1   PRES_FECHA            1526556 non-null  object \n",
            " 2   CODIGO                1526557 non-null  object \n",
            " 3   PATIENT_ID            1526557 non-null  int64  \n",
            " 4   LINEA                 1526556 non-null  object \n",
            " 5   EPISCODE              1526557 non-null  object \n",
            " 6   CODESPECIALIDAD       1526557 non-null  object \n",
            " 7   ESPECIALIDAD          1526556 non-null  object \n",
            " 8   SALA                  1526556 non-null  object \n",
            " 9   CAMA                  1526508 non-null  object \n",
            " 10  AREA_KEY              1526556 non-null  object \n",
            " 11  DIAGCODE              1526556 non-null  object \n",
            " 12  DIAGDESC              687787 non-null   object \n",
            " 13  CODIGO_MEDICAMENTO    1526556 non-null  object \n",
            " 14  ESTADO_PRESCR         1508178 non-null  object \n",
            " 15  PRES_DENOMINACION     1526556 non-null  object \n",
            " 16  RESUMEN               1489517 non-null  object \n",
            " 17  FORMA_FARMA           1526556 non-null  object \n",
            " 18  IND_ADMINISTRACION_1  1426243 non-null  object \n",
            " 19  IND_ADMINISTRACION_2  31525 non-null    object \n",
            " 20  MEDICO_ID             363678 non-null   float64\n",
            "dtypes: float64(1), int64(2), object(18)\n",
            "memory usage: 244.6+ MB\n"
          ]
        },
        {
          "data": {
            "text/plain": [
              "(1526557, 21)"
            ]
          },
          "execution_count": 2,
          "metadata": {},
          "output_type": "execute_result"
        }
      ],
      "source": [
        "main_db = pd.read_csv('DATA_HLF_MDS.csv',sep=',')\n",
        "main_db.info()\n",
        "main_db.shape"
      ]
    },
    {
      "cell_type": "code",
      "execution_count": 3,
      "metadata": {
        "colab": {
          "base_uri": "https://localhost:8080/",
          "height": 1000
        },
        "id": "4HTE6apHBJhr",
        "outputId": "1ff15b40-344b-4e08-9caf-2057eac60f77"
      },
      "outputs": [
        {
          "data": {
            "text/html": [
              "<div>\n",
              "<style scoped>\n",
              "    .dataframe tbody tr th:only-of-type {\n",
              "        vertical-align: middle;\n",
              "    }\n",
              "\n",
              "    .dataframe tbody tr th {\n",
              "        vertical-align: top;\n",
              "    }\n",
              "\n",
              "    .dataframe thead th {\n",
              "        text-align: right;\n",
              "    }\n",
              "</style>\n",
              "<table border=\"1\" class=\"dataframe\">\n",
              "  <thead>\n",
              "    <tr style=\"text-align: right;\">\n",
              "      <th></th>\n",
              "      <th>CODIGO_MEDICAMENTO</th>\n",
              "      <th>PRES_DENOMINACION</th>\n",
              "      <th>RESUMEN</th>\n",
              "      <th>FORMA_FARMA</th>\n",
              "      <th>IND_ADMINISTRACION_1</th>\n",
              "      <th>IND_ADMINISTRACION_2</th>\n",
              "    </tr>\n",
              "  </thead>\n",
              "  <tbody>\n",
              "    <tr>\n",
              "      <th>0</th>\n",
              "      <td>Calculo de la vesicula biliar con colecistitis...</td>\n",
              "      <td>Pasivo</td>\n",
              "      <td>NaN</td>\n",
              "      <td>1 COMPRIMIDO ORAL cada 12 horas durante 7 dias</td>\n",
              "      <td>NaN</td>\n",
              "      <td>NaN</td>\n",
              "    </tr>\n",
              "    <tr>\n",
              "      <th>1</th>\n",
              "      <td>Calculo de la vesicula biliar con colecistitis...</td>\n",
              "      <td>Pasivo</td>\n",
              "      <td>PARACETAMOL 500 MG COMPRIMIDO</td>\n",
              "      <td>1 COMPRIMIDO ORAL cada 6 horas durante 3 dias</td>\n",
              "      <td>comprimido</td>\n",
              "      <td>NaN</td>\n",
              "    </tr>\n",
              "    <tr>\n",
              "      <th>2</th>\n",
              "      <td>Calculo de la vesicula biliar con colecistitis...</td>\n",
              "      <td>Pasivo</td>\n",
              "      <td>KETOROLACO 10 MG COMPRIMIDO</td>\n",
              "      <td>1 COMPRIMIDO ORAL cada 8 horas durante 3 dias</td>\n",
              "      <td>comprimido recubierto</td>\n",
              "      <td>NaN</td>\n",
              "    </tr>\n",
              "    <tr>\n",
              "      <th>3</th>\n",
              "      <td>Apendicitis aguda</td>\n",
              "      <td>Activo</td>\n",
              "      <td>KETOROLACO 10 MG COMPRIMIDO</td>\n",
              "      <td>1 COMPRIMIDO ORAL cada 8 horas durante 5 dias</td>\n",
              "      <td>comprimido recubierto</td>\n",
              "      <td>NaN</td>\n",
              "    </tr>\n",
              "    <tr>\n",
              "      <th>4</th>\n",
              "      <td>Apendicitis aguda</td>\n",
              "      <td>Activo</td>\n",
              "      <td>PARACETAMOL 500 MG COMPRIMIDO</td>\n",
              "      <td>1 COMPRIMIDO ORAL cada 6 horas durante 3 dias</td>\n",
              "      <td>comprimido</td>\n",
              "      <td>NaN</td>\n",
              "    </tr>\n",
              "    <tr>\n",
              "      <th>...</th>\n",
              "      <td>...</td>\n",
              "      <td>...</td>\n",
              "      <td>...</td>\n",
              "      <td>...</td>\n",
              "      <td>...</td>\n",
              "      <td>...</td>\n",
              "    </tr>\n",
              "    <tr>\n",
              "      <th>1526552</th>\n",
              "      <td>Accidente vascular encefalico agudo no especif...</td>\n",
              "      <td>Anulado</td>\n",
              "      <td>ÁCIDO ACETILSALICÍLICO 100 MG COMPRIMIDO RECUB...</td>\n",
              "      <td>1 COMPRIMIDO ORAL diaria</td>\n",
              "      <td>comprimido gastrorresistente</td>\n",
              "      <td>NaN</td>\n",
              "    </tr>\n",
              "    <tr>\n",
              "      <th>1526553</th>\n",
              "      <td>Accidente vascular encefalico agudo no especif...</td>\n",
              "      <td>Anulado</td>\n",
              "      <td>CAPTOPRIL 25 MG COMPRIMIDO</td>\n",
              "      <td>1 COMPRIMIDO ORAL cada 8 horas</td>\n",
              "      <td>comprimido</td>\n",
              "      <td>NaN</td>\n",
              "    </tr>\n",
              "    <tr>\n",
              "      <th>1526554</th>\n",
              "      <td>Accidente vascular encefalico agudo no especif...</td>\n",
              "      <td>Anulado</td>\n",
              "      <td>PARACETAMOL 500 MG COMPRIMIDO</td>\n",
              "      <td>2 COMPRIMIDO ORAL cada 8 horas</td>\n",
              "      <td>comprimido</td>\n",
              "      <td>NaN</td>\n",
              "    </tr>\n",
              "    <tr>\n",
              "      <th>1526555</th>\n",
              "      <td>Accidente vascular encefalico agudo no especif...</td>\n",
              "      <td>Anulado</td>\n",
              "      <td>INSULINA CRISTALINA HUMANA 100 U.I./ML SOLUCIO...</td>\n",
              "      <td>2 UNIDAD INTRAVENOSA cada 6 horas</td>\n",
              "      <td>solución inyectable</td>\n",
              "      <td>NaN</td>\n",
              "    </tr>\n",
              "    <tr>\n",
              "      <th>1526556</th>\n",
              "      <td>Accidente vascular encefalico agudo no especif...</td>\n",
              "      <td>Pasivo</td>\n",
              "      <td>NaN</td>\n",
              "      <td>150.0 ml / 24 h  ( Velocidad  0.63 ml/h )INTR...</td>\n",
              "      <td>solución inyectable</td>\n",
              "      <td>NaN</td>\n",
              "    </tr>\n",
              "  </tbody>\n",
              "</table>\n",
              "<p>1526557 rows × 6 columns</p>\n",
              "</div>"
            ],
            "text/plain": [
              "                                        CODIGO_MEDICAMENTO PRES_DENOMINACION  \\\n",
              "0        Calculo de la vesicula biliar con colecistitis...            Pasivo   \n",
              "1        Calculo de la vesicula biliar con colecistitis...            Pasivo   \n",
              "2        Calculo de la vesicula biliar con colecistitis...            Pasivo   \n",
              "3                                        Apendicitis aguda            Activo   \n",
              "4                                        Apendicitis aguda            Activo   \n",
              "...                                                    ...               ...   \n",
              "1526552  Accidente vascular encefalico agudo no especif...           Anulado   \n",
              "1526553  Accidente vascular encefalico agudo no especif...           Anulado   \n",
              "1526554  Accidente vascular encefalico agudo no especif...           Anulado   \n",
              "1526555  Accidente vascular encefalico agudo no especif...           Anulado   \n",
              "1526556  Accidente vascular encefalico agudo no especif...            Pasivo   \n",
              "\n",
              "                                                   RESUMEN  \\\n",
              "0                                                      NaN   \n",
              "1                            PARACETAMOL 500 MG COMPRIMIDO   \n",
              "2                              KETOROLACO 10 MG COMPRIMIDO   \n",
              "3                              KETOROLACO 10 MG COMPRIMIDO   \n",
              "4                            PARACETAMOL 500 MG COMPRIMIDO   \n",
              "...                                                    ...   \n",
              "1526552  ÁCIDO ACETILSALICÍLICO 100 MG COMPRIMIDO RECUB...   \n",
              "1526553                         CAPTOPRIL 25 MG COMPRIMIDO   \n",
              "1526554                      PARACETAMOL 500 MG COMPRIMIDO   \n",
              "1526555  INSULINA CRISTALINA HUMANA 100 U.I./ML SOLUCIO...   \n",
              "1526556                                                NaN   \n",
              "\n",
              "                                               FORMA_FARMA  \\\n",
              "0          1 COMPRIMIDO ORAL cada 12 horas durante 7 dias    \n",
              "1           1 COMPRIMIDO ORAL cada 6 horas durante 3 dias    \n",
              "2           1 COMPRIMIDO ORAL cada 8 horas durante 3 dias    \n",
              "3           1 COMPRIMIDO ORAL cada 8 horas durante 5 dias    \n",
              "4           1 COMPRIMIDO ORAL cada 6 horas durante 3 dias    \n",
              "...                                                    ...   \n",
              "1526552                          1 COMPRIMIDO ORAL diaria    \n",
              "1526553                    1 COMPRIMIDO ORAL cada 8 horas    \n",
              "1526554                    2 COMPRIMIDO ORAL cada 8 horas    \n",
              "1526555                 2 UNIDAD INTRAVENOSA cada 6 horas    \n",
              "1526556   150.0 ml / 24 h  ( Velocidad  0.63 ml/h )INTR...   \n",
              "\n",
              "                 IND_ADMINISTRACION_1 IND_ADMINISTRACION_2  \n",
              "0                                 NaN                  NaN  \n",
              "1                          comprimido                  NaN  \n",
              "2               comprimido recubierto                  NaN  \n",
              "3               comprimido recubierto                  NaN  \n",
              "4                          comprimido                  NaN  \n",
              "...                               ...                  ...  \n",
              "1526552  comprimido gastrorresistente                  NaN  \n",
              "1526553                    comprimido                  NaN  \n",
              "1526554                    comprimido                  NaN  \n",
              "1526555           solución inyectable                  NaN  \n",
              "1526556           solución inyectable                  NaN  \n",
              "\n",
              "[1526557 rows x 6 columns]"
            ]
          },
          "execution_count": 3,
          "metadata": {},
          "output_type": "execute_result"
        }
      ],
      "source": [
        "main_db.loc[:,['CODIGO_MEDICAMENTO','PRES_DENOMINACION', 'RESUMEN', 'FORMA_FARMA', 'IND_ADMINISTRACION_1', 'IND_ADMINISTRACION_2']]"
      ]
    },
    {
      "cell_type": "code",
      "execution_count": 4,
      "metadata": {
        "colab": {
          "base_uri": "https://localhost:8080/"
        },
        "id": "rVNZ7aRIIeSw",
        "outputId": "e6b95cb8-382d-4c7d-ccef-9824f3cf6139"
      },
      "outputs": [
        {
          "data": {
            "text/plain": [
              "index                                                                   1\n",
              "PRES_FECHA                                            01/01/2015 10:09:40\n",
              "CODIGO                                                         AC00190082\n",
              "PATIENT_ID                                                         918644\n",
              "LINEA                                                 01/01/2015 10:09:40\n",
              "EPISCODE                                                              HOS\n",
              "CODESPECIALIDAD                                       HOS1410520140007798\n",
              "ESPECIALIDAD                                                    A-4-72002\n",
              "SALA                                                       Cirugía Adulto\n",
              "CAMA                                                                  355\n",
              "AREA_KEY                                     355-01 - Adultos Neurologica\n",
              "DIAGCODE                                                              HOS\n",
              "DIAGDESC                                                             K800\n",
              "CODIGO_MEDICAMENTO      Calculo de la vesicula biliar con colecistitis...\n",
              "ESTADO_PRESCR                                                   FANN02016\n",
              "PRES_DENOMINACION                                                  Pasivo\n",
              "RESUMEN                                     PARACETAMOL 500 MG COMPRIMIDO\n",
              "FORMA_FARMA                1 COMPRIMIDO ORAL cada 6 horas durante 3 dias \n",
              "IND_ADMINISTRACION_1                                           comprimido\n",
              "IND_ADMINISTRACION_2                                                  NaN\n",
              "MEDICO_ID                                                             NaN\n",
              "Name: 1, dtype: object"
            ]
          },
          "execution_count": 4,
          "metadata": {},
          "output_type": "execute_result"
        }
      ],
      "source": [
        "main_db.loc[1]"
      ]
    }
  ],
  "metadata": {
    "colab": {
      "provenance": []
    },
    "kernelspec": {
      "display_name": "Python 3.9.13 ('entidades_env')",
      "language": "python",
      "name": "python3"
    },
    "language_info": {
      "codemirror_mode": {
        "name": "ipython",
        "version": 3
      },
      "file_extension": ".py",
      "mimetype": "text/x-python",
      "name": "python",
      "nbconvert_exporter": "python",
      "pygments_lexer": "ipython3",
      "version": "3.9.13"
    },
    "vscode": {
      "interpreter": {
        "hash": "60cab8a6eccdbb291cd8546425070b6bbfbad3cae25f59923f3919ec9d23e6db"
      }
    }
  },
  "nbformat": 4,
  "nbformat_minor": 0
}
