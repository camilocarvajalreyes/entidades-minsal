{
  "nbformat": 4,
  "nbformat_minor": 0,
  "metadata": {
    "colab": {
      "provenance": []
    },
    "kernelspec": {
      "name": "python3",
      "display_name": "Python 3"
    },
    "language_info": {
      "name": "python"
    }
  },
  "cells": [
    {
      "cell_type": "code",
      "source": [
        "import re\n",
        "import pandas as pd\n",
        "import numpy as np\n",
        "import matplotlib.pyplot as plt"
      ],
      "metadata": {
        "id": "5ozoMDrmzMtx"
      },
      "execution_count": 2,
      "outputs": []
    },
    {
      "cell_type": "code",
      "source": [
        "!pip install -U gdown"
      ],
      "metadata": {
        "colab": {
          "base_uri": "https://localhost:8080/"
        },
        "id": "XZD1DRtr34vm",
        "outputId": "4e9c74ce-a522-46ae-9eb4-01e8657b9bb9"
      },
      "execution_count": 3,
      "outputs": [
        {
          "output_type": "stream",
          "name": "stdout",
          "text": [
            "Looking in indexes: https://pypi.org/simple, https://us-python.pkg.dev/colab-wheels/public/simple/\n",
            "Requirement already satisfied: gdown in /usr/local/lib/python3.8/dist-packages (4.6.0)\n",
            "Requirement already satisfied: beautifulsoup4 in /usr/local/lib/python3.8/dist-packages (from gdown) (4.6.3)\n",
            "Requirement already satisfied: filelock in /usr/local/lib/python3.8/dist-packages (from gdown) (3.8.0)\n",
            "Requirement already satisfied: tqdm in /usr/local/lib/python3.8/dist-packages (from gdown) (4.64.1)\n",
            "Requirement already satisfied: requests[socks] in /usr/local/lib/python3.8/dist-packages (from gdown) (2.23.0)\n",
            "Requirement already satisfied: six in /usr/local/lib/python3.8/dist-packages (from gdown) (1.15.0)\n",
            "Requirement already satisfied: chardet<4,>=3.0.2 in /usr/local/lib/python3.8/dist-packages (from requests[socks]->gdown) (3.0.4)\n",
            "Requirement already satisfied: urllib3!=1.25.0,!=1.25.1,<1.26,>=1.21.1 in /usr/local/lib/python3.8/dist-packages (from requests[socks]->gdown) (1.24.3)\n",
            "Requirement already satisfied: idna<3,>=2.5 in /usr/local/lib/python3.8/dist-packages (from requests[socks]->gdown) (2.10)\n",
            "Requirement already satisfied: certifi>=2017.4.17 in /usr/local/lib/python3.8/dist-packages (from requests[socks]->gdown) (2022.9.24)\n",
            "Requirement already satisfied: PySocks!=1.5.7,>=1.5.6 in /usr/local/lib/python3.8/dist-packages (from requests[socks]->gdown) (1.7.1)\n"
          ]
        }
      ]
    },
    {
      "cell_type": "code",
      "execution_count": 4,
      "metadata": {
        "colab": {
          "base_uri": "https://localhost:8080/"
        },
        "id": "ZT2S_dtjzIwe",
        "outputId": "a49de05c-a322-4059-945f-540c6906d8ee"
      },
      "outputs": [
        {
          "output_type": "stream",
          "name": "stdout",
          "text": [
            "/usr/local/lib/python3.8/dist-packages/gdown/cli.py:121: FutureWarning: Option `--id` was deprecated in version 4.3.1 and will be removed in 5.0. You don't need to pass it anymore to use a file ID.\n",
            "  warnings.warn(\n",
            "Downloading...\n",
            "From: https://drive.google.com/uc?id=1vcYj7xDwH38AZ8L2AHp-zdqddK-KeaVI\n",
            "To: /content/DATA_HLF_MDS_2.csv\n",
            "100% 477M/477M [00:02<00:00, 206MB/s]\n",
            "/usr/local/lib/python3.8/dist-packages/gdown/cli.py:121: FutureWarning: Option `--id` was deprecated in version 4.3.1 and will be removed in 5.0. You don't need to pass it anymore to use a file ID.\n",
            "  warnings.warn(\n",
            "Downloading...\n",
            "From: https://drive.google.com/uc?id=1pyy6OWkNxbLsfaIRqzMD06aGqPTIc_DG\n",
            "To: /content/PRINCIPIOS_ACTIVOS_MDS.xlsx\n",
            "100% 69.2k/69.2k [00:00<00:00, 28.1MB/s]\n"
          ]
        }
      ],
      "source": [
        "!gdown --id '1vcYj7xDwH38AZ8L2AHp-zdqddK-KeaVI'\n",
        "!gdown --id '1pyy6OWkNxbLsfaIRqzMD06aGqPTIc_DG'"
      ]
    },
    {
      "cell_type": "code",
      "source": [
        "#Al importar los datos estan corridos, se puede ver en Resumen y FormaFrama, donde estan corridos en una posicion hacia abajo\n",
        "main_db = pd.read_csv('/content/DATA_HLF_MDS_2.csv',sep=',')"
      ],
      "metadata": {
        "id": "sCS2AmzQ_aIV"
      },
      "execution_count": 5,
      "outputs": []
    },
    {
      "cell_type": "code",
      "source": [
        "code_db = pd.read_excel('/content/PRINCIPIOS_ACTIVOS_MDS.xlsx')\n",
        "HLF = code_db.loc[:,['PRINCIPIO_ACTIVO','CODIGO_HLF']]"
      ],
      "metadata": {
        "id": "s9NI1ClMM_Vy"
      },
      "execution_count": 6,
      "outputs": []
    },
    {
      "cell_type": "code",
      "source": [
        "HLF2 = HLF['CODIGO_HLF'].str.split(', ')\n",
        "HLF_list = []\n",
        "for i in range(len(HLF2)):\n",
        "  HLF_list = HLF_list + HLF2[i] \n",
        "try:\n",
        "  HLF_list.remove('')\n",
        "except:\n",
        "  pass\n",
        "HLF_name = []\n",
        "for elem in HLF_list:\n",
        "  HLF_name = HLF_name + HLF[HLF['CODIGO_HLF'].str.contains(elem)]['PRINCIPIO_ACTIVO'].values.tolist()"
      ],
      "metadata": {
        "id": "wFLtZJN_NDdn"
      },
      "execution_count": 7,
      "outputs": []
    },
    {
      "cell_type": "code",
      "source": [
        "HLF_df = pd.DataFrame()\n",
        "HLF_df['CODIGO_MEDICAMENTO'] = HLF_list\n",
        "HLF_df['PRINCIPIO_ACTIVO'] = HLF_name"
      ],
      "metadata": {
        "id": "-risxcu7NG8x"
      },
      "execution_count": 8,
      "outputs": []
    },
    {
      "cell_type": "code",
      "source": [
        "df = main_db.join(HLF_df.set_index('CODIGO_MEDICAMENTO'), on='CODIGO_MEDICAMENTO')"
      ],
      "metadata": {
        "id": "O3s1jaCiNKP2"
      },
      "execution_count": 9,
      "outputs": []
    },
    {
      "cell_type": "code",
      "source": [
        "df1 = df.loc[:,['PRINCIPIO_ACTIVO', 'PRES_DENOMINACION', 'RESUMEN',\t'FORMA_FARMA']].dropna()"
      ],
      "metadata": {
        "id": "gqHcKWIL4gYs"
      },
      "execution_count": 10,
      "outputs": []
    },
    {
      "cell_type": "code",
      "source": [
        "!pip install unidecode"
      ],
      "metadata": {
        "colab": {
          "base_uri": "https://localhost:8080/"
        },
        "id": "Ix9KV5pE-9j8",
        "outputId": "d03f2cbb-0ffa-4673-fce7-5b2e1cd9708e"
      },
      "execution_count": 11,
      "outputs": [
        {
          "output_type": "stream",
          "name": "stdout",
          "text": [
            "Looking in indexes: https://pypi.org/simple, https://us-python.pkg.dev/colab-wheels/public/simple/\n",
            "Requirement already satisfied: unidecode in /usr/local/lib/python3.8/dist-packages (1.3.6)\n"
          ]
        }
      ]
    },
    {
      "cell_type": "code",
      "source": [
        "df1.drop_duplicates(subset=['PRES_DENOMINACION', 'RESUMEN'])"
      ],
      "metadata": {
        "colab": {
          "base_uri": "https://localhost:8080/",
          "height": 659
        },
        "id": "rKBITVBPHJ_2",
        "outputId": "7b5ee0ad-31d2-4c5d-83e1-221e0dc9513d"
      },
      "execution_count": 13,
      "outputs": [
        {
          "output_type": "execute_result",
          "data": {
            "text/plain": [
              "                 PRINCIPIO_ACTIVO  \\\n",
              "1                     PARACETAMOL   \n",
              "2                      KETOROLACO   \n",
              "3                      KETOROLACO   \n",
              "5                      CARVEDILOL   \n",
              "6        FLUTICASONA + SALMETEROL   \n",
              "...                           ...   \n",
              "1526466             SODIO CLORURO   \n",
              "1526467           POTASIO CLORURO   \n",
              "1526486              FENOBARBITAL   \n",
              "1526487                CLONAZEPAM   \n",
              "1526520                FILGRASTIM   \n",
              "\n",
              "                                         PRES_DENOMINACION  \\\n",
              "1                            PARACETAMOL 500 MG COMPRIMIDO   \n",
              "2                              KETOROLACO 10 MG COMPRIMIDO   \n",
              "3                              KETOROLACO 10 MG COMPRIMIDO   \n",
              "5                            CARVEDILOL 6,25 MG COMPRIMIDO   \n",
              "6        FLUTICASONA 125 MCG/DOSIS + SALMETEROL 25 MCG/...   \n",
              "...                                                    ...   \n",
              "1526466  SODIO CLORURO 10 % SOLUCIÓN INYECTABLE AMPOLLA...   \n",
              "1526467  POTASIO CLORURO 10 % SOLUCIÓN INYECTABLE AMPOL...   \n",
              "1526486                     FENOBARBITAL 100 MG COMPRIMIDO   \n",
              "1526487                         CLONAZEPAM 2 MG COMPRIMIDO   \n",
              "1526520  FILGRASTIM 300 MCG/0,5 ML SOLUCIÓN INYECTABLE ...   \n",
              "\n",
              "                                                   RESUMEN  \\\n",
              "1           1 COMPRIMIDO ORAL cada 6 horas durante 3 dias    \n",
              "2           1 COMPRIMIDO ORAL cada 8 horas durante 3 dias    \n",
              "3           1 COMPRIMIDO ORAL cada 8 horas durante 5 dias    \n",
              "5                         1 COMPRIMIDO ORAL cada 12 horas    \n",
              "6                         3 INHALACIÓN ORAL cada 12 horas    \n",
              "...                                                    ...   \n",
              "1526466                    40 ML INTRAVENOSA dosis simple    \n",
              "1526467                    20 ML INTRAVENOSA dosis simple    \n",
              "1526486                      1 COMPRIMIDO OTRA VÍA diaria    \n",
              "1526487                        1 MG OTRA VÍA al acostarse    \n",
              "1526520  1 SOLUCIÓN INYECTABLE EN JERINGA PRECARGADA IN...   \n",
              "\n",
              "                                       FORMA_FARMA  \n",
              "1                                       comprimido  \n",
              "2                            comprimido recubierto  \n",
              "3                            comprimido recubierto  \n",
              "5                                       comprimido  \n",
              "6                       suspensión para inhalación  \n",
              "...                                            ...  \n",
              "1526466                        solución inyectable  \n",
              "1526467                        solución inyectable  \n",
              "1526486                                 comprimido  \n",
              "1526487                                 comprimido  \n",
              "1526520  solución inyectable en jeringa precargada  \n",
              "\n",
              "[103100 rows x 4 columns]"
            ],
            "text/html": [
              "\n",
              "  <div id=\"df-d29b8c7f-d251-4983-9ea9-d09ba0a798f5\">\n",
              "    <div class=\"colab-df-container\">\n",
              "      <div>\n",
              "<style scoped>\n",
              "    .dataframe tbody tr th:only-of-type {\n",
              "        vertical-align: middle;\n",
              "    }\n",
              "\n",
              "    .dataframe tbody tr th {\n",
              "        vertical-align: top;\n",
              "    }\n",
              "\n",
              "    .dataframe thead th {\n",
              "        text-align: right;\n",
              "    }\n",
              "</style>\n",
              "<table border=\"1\" class=\"dataframe\">\n",
              "  <thead>\n",
              "    <tr style=\"text-align: right;\">\n",
              "      <th></th>\n",
              "      <th>PRINCIPIO_ACTIVO</th>\n",
              "      <th>PRES_DENOMINACION</th>\n",
              "      <th>RESUMEN</th>\n",
              "      <th>FORMA_FARMA</th>\n",
              "    </tr>\n",
              "  </thead>\n",
              "  <tbody>\n",
              "    <tr>\n",
              "      <th>1</th>\n",
              "      <td>PARACETAMOL</td>\n",
              "      <td>PARACETAMOL 500 MG COMPRIMIDO</td>\n",
              "      <td>1 COMPRIMIDO ORAL cada 6 horas durante 3 dias</td>\n",
              "      <td>comprimido</td>\n",
              "    </tr>\n",
              "    <tr>\n",
              "      <th>2</th>\n",
              "      <td>KETOROLACO</td>\n",
              "      <td>KETOROLACO 10 MG COMPRIMIDO</td>\n",
              "      <td>1 COMPRIMIDO ORAL cada 8 horas durante 3 dias</td>\n",
              "      <td>comprimido recubierto</td>\n",
              "    </tr>\n",
              "    <tr>\n",
              "      <th>3</th>\n",
              "      <td>KETOROLACO</td>\n",
              "      <td>KETOROLACO 10 MG COMPRIMIDO</td>\n",
              "      <td>1 COMPRIMIDO ORAL cada 8 horas durante 5 dias</td>\n",
              "      <td>comprimido recubierto</td>\n",
              "    </tr>\n",
              "    <tr>\n",
              "      <th>5</th>\n",
              "      <td>CARVEDILOL</td>\n",
              "      <td>CARVEDILOL 6,25 MG COMPRIMIDO</td>\n",
              "      <td>1 COMPRIMIDO ORAL cada 12 horas</td>\n",
              "      <td>comprimido</td>\n",
              "    </tr>\n",
              "    <tr>\n",
              "      <th>6</th>\n",
              "      <td>FLUTICASONA + SALMETEROL</td>\n",
              "      <td>FLUTICASONA 125 MCG/DOSIS + SALMETEROL 25 MCG/...</td>\n",
              "      <td>3 INHALACIÓN ORAL cada 12 horas</td>\n",
              "      <td>suspensión para inhalación</td>\n",
              "    </tr>\n",
              "    <tr>\n",
              "      <th>...</th>\n",
              "      <td>...</td>\n",
              "      <td>...</td>\n",
              "      <td>...</td>\n",
              "      <td>...</td>\n",
              "    </tr>\n",
              "    <tr>\n",
              "      <th>1526466</th>\n",
              "      <td>SODIO CLORURO</td>\n",
              "      <td>SODIO CLORURO 10 % SOLUCIÓN INYECTABLE AMPOLLA...</td>\n",
              "      <td>40 ML INTRAVENOSA dosis simple</td>\n",
              "      <td>solución inyectable</td>\n",
              "    </tr>\n",
              "    <tr>\n",
              "      <th>1526467</th>\n",
              "      <td>POTASIO CLORURO</td>\n",
              "      <td>POTASIO CLORURO 10 % SOLUCIÓN INYECTABLE AMPOL...</td>\n",
              "      <td>20 ML INTRAVENOSA dosis simple</td>\n",
              "      <td>solución inyectable</td>\n",
              "    </tr>\n",
              "    <tr>\n",
              "      <th>1526486</th>\n",
              "      <td>FENOBARBITAL</td>\n",
              "      <td>FENOBARBITAL 100 MG COMPRIMIDO</td>\n",
              "      <td>1 COMPRIMIDO OTRA VÍA diaria</td>\n",
              "      <td>comprimido</td>\n",
              "    </tr>\n",
              "    <tr>\n",
              "      <th>1526487</th>\n",
              "      <td>CLONAZEPAM</td>\n",
              "      <td>CLONAZEPAM 2 MG COMPRIMIDO</td>\n",
              "      <td>1 MG OTRA VÍA al acostarse</td>\n",
              "      <td>comprimido</td>\n",
              "    </tr>\n",
              "    <tr>\n",
              "      <th>1526520</th>\n",
              "      <td>FILGRASTIM</td>\n",
              "      <td>FILGRASTIM 300 MCG/0,5 ML SOLUCIÓN INYECTABLE ...</td>\n",
              "      <td>1 SOLUCIÓN INYECTABLE EN JERINGA PRECARGADA IN...</td>\n",
              "      <td>solución inyectable en jeringa precargada</td>\n",
              "    </tr>\n",
              "  </tbody>\n",
              "</table>\n",
              "<p>103100 rows × 4 columns</p>\n",
              "</div>\n",
              "      <button class=\"colab-df-convert\" onclick=\"convertToInteractive('df-d29b8c7f-d251-4983-9ea9-d09ba0a798f5')\"\n",
              "              title=\"Convert this dataframe to an interactive table.\"\n",
              "              style=\"display:none;\">\n",
              "        \n",
              "  <svg xmlns=\"http://www.w3.org/2000/svg\" height=\"24px\"viewBox=\"0 0 24 24\"\n",
              "       width=\"24px\">\n",
              "    <path d=\"M0 0h24v24H0V0z\" fill=\"none\"/>\n",
              "    <path d=\"M18.56 5.44l.94 2.06.94-2.06 2.06-.94-2.06-.94-.94-2.06-.94 2.06-2.06.94zm-11 1L8.5 8.5l.94-2.06 2.06-.94-2.06-.94L8.5 2.5l-.94 2.06-2.06.94zm10 10l.94 2.06.94-2.06 2.06-.94-2.06-.94-.94-2.06-.94 2.06-2.06.94z\"/><path d=\"M17.41 7.96l-1.37-1.37c-.4-.4-.92-.59-1.43-.59-.52 0-1.04.2-1.43.59L10.3 9.45l-7.72 7.72c-.78.78-.78 2.05 0 2.83L4 21.41c.39.39.9.59 1.41.59.51 0 1.02-.2 1.41-.59l7.78-7.78 2.81-2.81c.8-.78.8-2.07 0-2.86zM5.41 20L4 18.59l7.72-7.72 1.47 1.35L5.41 20z\"/>\n",
              "  </svg>\n",
              "      </button>\n",
              "      \n",
              "  <style>\n",
              "    .colab-df-container {\n",
              "      display:flex;\n",
              "      flex-wrap:wrap;\n",
              "      gap: 12px;\n",
              "    }\n",
              "\n",
              "    .colab-df-convert {\n",
              "      background-color: #E8F0FE;\n",
              "      border: none;\n",
              "      border-radius: 50%;\n",
              "      cursor: pointer;\n",
              "      display: none;\n",
              "      fill: #1967D2;\n",
              "      height: 32px;\n",
              "      padding: 0 0 0 0;\n",
              "      width: 32px;\n",
              "    }\n",
              "\n",
              "    .colab-df-convert:hover {\n",
              "      background-color: #E2EBFA;\n",
              "      box-shadow: 0px 1px 2px rgba(60, 64, 67, 0.3), 0px 1px 3px 1px rgba(60, 64, 67, 0.15);\n",
              "      fill: #174EA6;\n",
              "    }\n",
              "\n",
              "    [theme=dark] .colab-df-convert {\n",
              "      background-color: #3B4455;\n",
              "      fill: #D2E3FC;\n",
              "    }\n",
              "\n",
              "    [theme=dark] .colab-df-convert:hover {\n",
              "      background-color: #434B5C;\n",
              "      box-shadow: 0px 1px 3px 1px rgba(0, 0, 0, 0.15);\n",
              "      filter: drop-shadow(0px 1px 2px rgba(0, 0, 0, 0.3));\n",
              "      fill: #FFFFFF;\n",
              "    }\n",
              "  </style>\n",
              "\n",
              "      <script>\n",
              "        const buttonEl =\n",
              "          document.querySelector('#df-d29b8c7f-d251-4983-9ea9-d09ba0a798f5 button.colab-df-convert');\n",
              "        buttonEl.style.display =\n",
              "          google.colab.kernel.accessAllowed ? 'block' : 'none';\n",
              "\n",
              "        async function convertToInteractive(key) {\n",
              "          const element = document.querySelector('#df-d29b8c7f-d251-4983-9ea9-d09ba0a798f5');\n",
              "          const dataTable =\n",
              "            await google.colab.kernel.invokeFunction('convertToInteractive',\n",
              "                                                     [key], {});\n",
              "          if (!dataTable) return;\n",
              "\n",
              "          const docLinkHtml = 'Like what you see? Visit the ' +\n",
              "            '<a target=\"_blank\" href=https://colab.research.google.com/notebooks/data_table.ipynb>data table notebook</a>'\n",
              "            + ' to learn more about interactive tables.';\n",
              "          element.innerHTML = '';\n",
              "          dataTable['output_type'] = 'display_data';\n",
              "          await google.colab.output.renderOutput(dataTable, element);\n",
              "          const docLink = document.createElement('div');\n",
              "          docLink.innerHTML = docLinkHtml;\n",
              "          element.appendChild(docLink);\n",
              "        }\n",
              "      </script>\n",
              "    </div>\n",
              "  </div>\n",
              "  "
            ]
          },
          "metadata": {},
          "execution_count": 13
        }
      ]
    },
    {
      "cell_type": "code",
      "source": [
        "import unidecode\n",
        "import re\n",
        "for i in range(1,1526556):\n",
        "  try:\n",
        "    if re.search(unidecode.unidecode(df1.loc[i,'FORMA_FARMA'].split()[0].upper()), unidecode.unidecode(df1.loc[i,'PRES_DENOMINACION'])):\n",
        "      s = re.search(unidecode.unidecode(df1.loc[i,'FORMA_FARMA'].split()[0].upper()), unidecode.unidecode(df1.loc[i,'PRES_DENOMINACION'])).start()\n",
        "      df1.loc[i,'PRES_DENOMINACION'] = ('[B_ACTIVE_PRINCIPLE]'+df1.loc[i,'PRES_DENOMINACION'][:s-1]+'[E_ACTIVE_PRINCIPLE]'\n",
        "      +' '+'[B_FORMA_FARMA]'+df1.loc[i,'PRES_DENOMINACION'][s:]+'[E_FORMA_FARMA]')\n",
        "  except:\n",
        "    pass"
      ],
      "metadata": {
        "id": "kEXWyWuD5opt"
      },
      "execution_count": 14,
      "outputs": []
    },
    {
      "cell_type": "code",
      "source": [
        "df1 = df1.drop_duplicates(subset=['PRES_DENOMINACION', 'RESUMEN'])"
      ],
      "metadata": {
        "id": "bj2s7Bhp6W8P"
      },
      "execution_count": 68,
      "outputs": []
    },
    {
      "cell_type": "code",
      "source": [
        "#corpus = (df1['PRES_DENOMINACION']+ ' ' +df1['RESUMEN']).dropna().unique()\n",
        "corpus = df1['RESUMEN']"
      ],
      "metadata": {
        "id": "pjLyYZG5Iwux"
      },
      "execution_count": 82,
      "outputs": []
    },
    {
      "cell_type": "code",
      "source": [
        "ADMIN = 'ORAL|INTRAVENOSA|INTRAVASCULAR|INTRAMUSCULAR|INTRATECAL|SUBCUT.NEA|SUBLINGUAL|BUCAL|RECTAL|VAGINAL|OCULAR|.TICA|NASAL|INHALACI.N|NEBULIZACI.N|CUT.NEO|T.PIC.|TRANSD.RMICO'"
      ],
      "metadata": {
        "id": "Bpi7fdItJWTN"
      },
      "execution_count": 83,
      "outputs": []
    },
    {
      "cell_type": "code",
      "source": [
        "def Reg_expresion(txt,ADMIN):\n",
        "  \n",
        "  if re.search(r'cada [0-9].? d.as|cada [0-9].? horas|cada [0-9].? minutos|al acostarse|diari.|(\\w+) veces al d.a',txt):\n",
        "    elem = re.search(r'cada [0-9].? d.as|cada [0-9].? horas|cada [0-9].? minutos|al acostarse|diari.|(\\w+) veces al d.a',txt).group()\n",
        "    txt = re.sub(elem, '[B_PERIODICITY]'+elem+'[E_PERIODICITY]',txt,1)\n",
        "\n",
        "  if re.search('durante .+ d.as|durante .+ horas|durante .+ meses',txt):\n",
        "    elem = re.search('durante .+ d.as|durante .+ horas|durante .+ meses',txt).group()\n",
        "    txt = re.sub(elem, '[B_DURATION]'+elem+'[E_DURATION]',txt,1)\n",
        "\n",
        "  if re.search(ADMIN,txt):\n",
        "    elem = re.search(ADMIN,txt).group()\n",
        "    txt = re.sub(elem, '[B_ADMIN]'+elem+'[E_ADMIN]',txt,1)\n",
        "  return txt"
      ],
      "metadata": {
        "id": "HzQW7ak9SeaV"
      },
      "execution_count": 46,
      "outputs": []
    },
    {
      "cell_type": "code",
      "source": [
        "def generate_column_o(corpus):\n",
        "  n = 0\n",
        "  for i in range(len(corpus)):\n",
        "    c = corpus[i].split()\n",
        "    for elem in c:\n",
        "      n+=1\n",
        "    n+=1\n",
        "  output = np.empty([n,2], dtype= object)\n",
        "  idx = 0\n",
        "  for i in range(len(corpus)):\n",
        "    c= corpus[i].split()\n",
        "    j=0\n",
        "    while j < len(c):\n",
        "      output[idx] = np.array([c[j], 'O'],dtype = object)\n",
        "      idx += 1\n",
        "      j+=1\n",
        "    output[idx] = np.array(['', ''],dtype = object)\n",
        "    idx += 1\n",
        "  return output"
      ],
      "metadata": {
        "id": "V5pN2aZS3BfV"
      },
      "execution_count": 31,
      "outputs": []
    },
    {
      "cell_type": "code",
      "source": [
        "def etiquetar(corpus,ADMIN):\n",
        "  output = np.empty([len(corpus)],dtype = object)\n",
        "  for i in range(len(corpus)):\n",
        "    try:\n",
        "      output[i] = Reg_expresion(corpus[i],ADMIN)\n",
        "    except:\n",
        "      output[i] = corpus[i]\n",
        "  return output"
      ],
      "metadata": {
        "id": "FrudTTcx3Ma2"
      },
      "execution_count": 32,
      "outputs": []
    },
    {
      "cell_type": "code",
      "source": [
        "def put_ticket(corpus):\n",
        "  print = 'O'\n",
        "  for i in range(len(corpus)):\n",
        "    if '[B_ACTIVE_PRINCIPLE]' in corpus[i,0] and '[E_ACTIVE_PRINCIPLE]' in corpus[i,0]:\n",
        "      corpus[i,1] = 'B-ACTIVE_PRINCIPLE'\n",
        "      corpus[i,0] = corpus[i,0].split(']')[1].split('[')[0]\n",
        "      print = 'O'\n",
        "    elif '[B_ACTIVE_PRINCIPLE]' in corpus[i,0]:\n",
        "      corpus[i,1] = 'B-ACTIVE_PRINCIPLE'\n",
        "      corpus[i,0] = corpus[i,0].split(']')[1]\n",
        "      print = 'I-ACTIVE_PRINCIPLE'\n",
        "    elif '[E_ACTIVE_PRINCIPLE]' in corpus[i,0]:\n",
        "      corpus[i,1] = 'I-ACTIVE_PRINCIPLE'\n",
        "      corpus[i,0] = corpus[i,0].split('[')[0]\n",
        "      print = 'O'\n",
        "    elif '[B_FORMA_FARMA]' in corpus[i,0] and '[E_FORMA_FARMA]' in corpus[i,0]:\n",
        "      corpus[i,1] = 'B-FORMA_FARMA'\n",
        "      corpus[i,0] = corpus[i,0].split(']')[1].split('[')[0]\n",
        "      print = 'O'\n",
        "    elif '[B_FORMA_FARMA]' in corpus[i,0]:\n",
        "      corpus[i,1] = 'B-FORMA_FARMA'\n",
        "      corpus[i,0] = corpus[i,0].split(']')[1]\n",
        "      print = 'I-FORMA_FARMA'\n",
        "    elif '[E_FORMA_FARMA]' in corpus[i,0]:\n",
        "      corpus[i,1] = 'I-FORMA_FARMA'\n",
        "      corpus[i,0] = corpus[i,0].split('[')[0]\n",
        "      print = 'O'\n",
        "    elif '[B_ADMIN]' in corpus[i,0] and '[E_ADMIN]' in corpus[i,0]:\n",
        "      corpus[i,1] = 'B-ADMIN'\n",
        "      corpus[i,0] = corpus[i,0].split(']')[1].split('[')[0]\n",
        "      print = 'O'\n",
        "    elif '[B_ADMIN]' in corpus[i,0]:\n",
        "      corpus[i,1] = 'B-ADMIN'\n",
        "      corpus[i,0] = corpus[i,0].split(']')[1]\n",
        "      print = 'I-ADMIN'\n",
        "    elif '[E_ADMIN]' in corpus[i,0]:\n",
        "      corpus[i,1] = 'I-ADMIN'\n",
        "      corpus[i,0] = corpus[i,0].split('[')[0]\n",
        "      print = 'O'\n",
        "    elif '[B_PERIODICITY]' in corpus[i,0] and '[E_PERIODICITY]' in corpus[i,0]:\n",
        "      corpus[i,1] = 'B-PERIODICITY'\n",
        "      corpus[i,0] = corpus[i,0].split(']')[1].split('[')[0]\n",
        "      print = 'O'\n",
        "    elif '[B_PERIODICITY]' in corpus[i,0]:\n",
        "      corpus[i,1] = 'B-PERIODICITY'\n",
        "      corpus[i,0] = corpus[i,0].split(']')[1]\n",
        "      print = 'I-PERIODICITY'\n",
        "    elif '[E_PERIODICITY]' in corpus[i,0]:\n",
        "      corpus[i,1] = 'I-PERIODICITY'\n",
        "      corpus[i,0] = corpus[i,0].split('[')[0]\n",
        "      print = 'O'\n",
        "    elif '[B_DURATION]' in corpus[i,0] and '[E_DURATION]' in corpus[i,0]:\n",
        "      corpus[i,1] = 'B-DURATION'\n",
        "      corpus[i,0] = corpus[i,0].split(']')[1].split('[')[0]\n",
        "      print = 'O'\n",
        "    elif '[B_DURATION]' in corpus[i,0]:\n",
        "      corpus[i,1] = 'B-DURATION'\n",
        "      corpus[i,0] = corpus[i,0].split(']')[1]\n",
        "      print = 'I-DURATION'\n",
        "    elif '[E_DURATION]' in corpus[i,0]:\n",
        "      corpus[i,1] = 'I-DURATION'\n",
        "      corpus[i,0] = corpus[i,0].split('[')[0]\n",
        "      print = 'O'\n",
        "    elif corpus[i,0] == '':\n",
        "      corpus[i,1] = ''\n",
        "    else:\n",
        "      corpus[i,1] = print"
      ],
      "metadata": {
        "id": "lE262Lnk8E1o"
      },
      "execution_count": 33,
      "outputs": []
    },
    {
      "cell_type": "code",
      "source": [
        "corpus_ER_resume = etiquetar(corpus.to_numpy(),ADMIN)"
      ],
      "metadata": {
        "id": "RghJlXA6M65c"
      },
      "execution_count": 91,
      "outputs": []
    },
    {
      "cell_type": "code",
      "source": [
        "corpus_ER_pa = df1['PRES_DENOMINACION'].to_numpy()"
      ],
      "metadata": {
        "id": "viQfGhI9NS_F"
      },
      "execution_count": 92,
      "outputs": []
    },
    {
      "cell_type": "code",
      "source": [
        "from sklearn.model_selection import train_test_split\n",
        "corpus_100k_train, corpus_100k_test = train_test_split(corpus_ER_pa+' '+corpus_ER_resume, test_size=0.2, random_state=10)\n",
        "print(len(corpus_100k_train), len(corpus_100k_test))\n",
        "\n",
        "np.savetxt('corpus_100k_train_v2.txt',corpus_100k_train,fmt=\"%s\",encoding='utf-8')\n",
        "np.savetxt('corpus_100k_test_v2.txt',corpus_100k_test,fmt=\"%s\",encoding='utf-8')"
      ],
      "metadata": {
        "colab": {
          "base_uri": "https://localhost:8080/"
        },
        "id": "7XHMKyigI_Zx",
        "outputId": "bf48e629-f808-4c7b-dee1-a1fadda84165"
      },
      "execution_count": 93,
      "outputs": [
        {
          "output_type": "stream",
          "name": "stdout",
          "text": [
            "82480 20620\n"
          ]
        }
      ]
    },
    {
      "cell_type": "code",
      "source": [
        "corpus_ER_TRAIN = generate_column_o(corpus_100k_train)\n",
        "corpus_ER_TEST = generate_column_o(corpus_100k_test)\n",
        "put_ticket(corpus_ER_TRAIN)\n",
        "put_ticket(corpus_ER_TEST)"
      ],
      "metadata": {
        "id": "tA-k45rtNl8h"
      },
      "execution_count": 94,
      "outputs": []
    },
    {
      "cell_type": "code",
      "source": [
        "np.savetxt('corpus_ER_train_v2.txt',corpus_ER_TRAIN,fmt=\"%s\")\n",
        "np.savetxt('corpus_ER_test_v2.txt',corpus_ER_TEST,fmt=\"%s\")"
      ],
      "metadata": {
        "id": "kiCWRcMNEZfM"
      },
      "execution_count": 95,
      "outputs": []
    }
  ]
}