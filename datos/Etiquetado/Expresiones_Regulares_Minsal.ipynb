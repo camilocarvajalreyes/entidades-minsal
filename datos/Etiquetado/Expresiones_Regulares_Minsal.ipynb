{
  "nbformat": 4,
  "nbformat_minor": 0,
  "metadata": {
    "colab": {
      "provenance": []
    },
    "kernelspec": {
      "name": "python3",
      "display_name": "Python 3"
    },
    "language_info": {
      "name": "python"
    }
  },
  "cells": [
    {
      "cell_type": "code",
      "execution_count": null,
      "metadata": {
        "id": "q-BsCFWo-gWX"
      },
      "outputs": [],
      "source": [
        "import re\n",
        "import pandas as pd\n",
        "import numpy as np\n",
        "import matplotlib.pyplot as plt"
      ]
    },
    {
      "cell_type": "code",
      "execution_count": null,
      "metadata": {
        "colab": {
          "base_uri": "https://localhost:8080/"
        },
        "id": "qVoRm7WVMYjc",
        "outputId": "d86dd36f-23fa-47e5-a001-6abd707606a4"
      },
      "outputs": [
        {
          "output_type": "stream",
          "name": "stdout",
          "text": [
            "--2022-11-21 07:45:42--  https://github.com/camilocarvajalreyes/entidades-minsal/raw/main/datos/Etiquetado/corpus_100k_test.txt\n",
            "Resolving github.com (github.com)... 20.27.177.113\n",
            "Connecting to github.com (github.com)|20.27.177.113|:443... connected.\n",
            "HTTP request sent, awaiting response... 302 Found\n",
            "Location: https://raw.githubusercontent.com/camilocarvajalreyes/entidades-minsal/main/datos/Etiquetado/corpus_100k_test.txt [following]\n",
            "--2022-11-21 07:45:43--  https://raw.githubusercontent.com/camilocarvajalreyes/entidades-minsal/main/datos/Etiquetado/corpus_100k_test.txt\n",
            "Resolving raw.githubusercontent.com (raw.githubusercontent.com)... 185.199.109.133, 185.199.108.133, 185.199.111.133, ...\n",
            "Connecting to raw.githubusercontent.com (raw.githubusercontent.com)|185.199.109.133|:443... connected.\n",
            "HTTP request sent, awaiting response... 200 OK\n",
            "Length: 2040487 (1.9M) [text/plain]\n",
            "Saving to: ‘corpus_100k_test.txt.1’\n",
            "\n",
            "corpus_100k_test.tx 100%[===================>]   1.95M  --.-KB/s    in 0.07s   \n",
            "\n",
            "2022-11-21 07:45:44 (27.4 MB/s) - ‘corpus_100k_test.txt.1’ saved [2040487/2040487]\n",
            "\n",
            "--2022-11-21 07:45:44--  https://github.com/camilocarvajalreyes/entidades-minsal/raw/main/datos/Etiquetado/corpus_100k_train.txt\n",
            "Resolving github.com (github.com)... 20.27.177.113\n",
            "Connecting to github.com (github.com)|20.27.177.113|:443... connected.\n",
            "HTTP request sent, awaiting response... 302 Found\n",
            "Location: https://raw.githubusercontent.com/camilocarvajalreyes/entidades-minsal/main/datos/Etiquetado/corpus_100k_train.txt [following]\n",
            "--2022-11-21 07:45:45--  https://raw.githubusercontent.com/camilocarvajalreyes/entidades-minsal/main/datos/Etiquetado/corpus_100k_train.txt\n",
            "Resolving raw.githubusercontent.com (raw.githubusercontent.com)... 185.199.111.133, 185.199.109.133, 185.199.110.133, ...\n",
            "Connecting to raw.githubusercontent.com (raw.githubusercontent.com)|185.199.111.133|:443... connected.\n",
            "HTTP request sent, awaiting response... 200 OK\n",
            "Length: 8145675 (7.8M) [text/plain]\n",
            "Saving to: ‘corpus_100k_train.txt.1’\n",
            "\n",
            "corpus_100k_train.t 100%[===================>]   7.77M  --.-KB/s    in 0.1s    \n",
            "\n",
            "2022-11-21 07:45:46 (70.9 MB/s) - ‘corpus_100k_train.txt.1’ saved [8145675/8145675]\n",
            "\n"
          ]
        }
      ],
      "source": [
        "!wget https://github.com/camilocarvajalreyes/entidades-minsal/raw/main/datos/Etiquetado/corpus_100k_test.txt\n",
        "!wget https://github.com/camilocarvajalreyes/entidades-minsal/raw/main/datos/Etiquetado/corpus_100k_train.txt"
      ]
    },
    {
      "cell_type": "code",
      "source": [
        "import numpy as np\n",
        "\n",
        "a = np.loadtxt('corpus_100k_train.txt', dtype= object,delimiter= '_[X]_' )\n",
        "b = np.loadtxt('corpus_100k_test.txt', dtype= object,delimiter= '_[X]_' )"
      ],
      "metadata": {
        "id": "csbpUMH5Nn0a"
      },
      "execution_count": null,
      "outputs": []
    },
    {
      "cell_type": "code",
      "source": [
        "#Descarga de datos\n",
        "!gdown --id '1vcYj7xDwH38AZ8L2AHp-zdqddK-KeaVI'\n",
        "!gdown --id '1pyy6OWkNxbLsfaIRqzMD06aGqPTIc_DG'"
      ],
      "metadata": {
        "colab": {
          "base_uri": "https://localhost:8080/"
        },
        "id": "qiLE7mDI-34N",
        "outputId": "e50dd05f-0beb-4b55-ddd3-1e83aa3ea8ab"
      },
      "execution_count": null,
      "outputs": [
        {
          "output_type": "stream",
          "name": "stdout",
          "text": [
            "/usr/local/lib/python3.7/dist-packages/gdown/cli.py:131: FutureWarning: Option `--id` was deprecated in version 4.3.1 and will be removed in 5.0. You don't need to pass it anymore to use a file ID.\n",
            "  category=FutureWarning,\n",
            "Downloading...\n",
            "From: https://drive.google.com/uc?id=1vcYj7xDwH38AZ8L2AHp-zdqddK-KeaVI\n",
            "To: /content/DATA_HLF_MDS_2.csv\n",
            "100% 477M/477M [00:03<00:00, 150MB/s]\n",
            "/usr/local/lib/python3.7/dist-packages/gdown/cli.py:131: FutureWarning: Option `--id` was deprecated in version 4.3.1 and will be removed in 5.0. You don't need to pass it anymore to use a file ID.\n",
            "  category=FutureWarning,\n",
            "Downloading...\n",
            "From: https://drive.google.com/uc?id=1pyy6OWkNxbLsfaIRqzMD06aGqPTIc_DG\n",
            "To: /content/PRINCIPIOS_ACTIVOS_MDS.xlsx\n",
            "100% 69.2k/69.2k [00:00<00:00, 19.2MB/s]\n"
          ]
        }
      ]
    },
    {
      "cell_type": "code",
      "source": [
        "#Al importar los datos estan corridos, se puede ver en Resumen y FormaFrama, donde estan corridos en una posicion hacia abajo\n",
        "main_db = pd.read_csv('/content/DATA_HLF_MDS_2.csv',sep=',')"
      ],
      "metadata": {
        "id": "sCS2AmzQ_aIV"
      },
      "execution_count": null,
      "outputs": []
    },
    {
      "cell_type": "code",
      "source": [
        "code_db = pd.read_excel('/content/PRINCIPIOS_ACTIVOS_MDS.xlsx')\n",
        "HLF = code_db.loc[:,['PRINCIPIO_ACTIVO','CODIGO_HLF']]"
      ],
      "metadata": {
        "id": "s9NI1ClMM_Vy"
      },
      "execution_count": null,
      "outputs": []
    },
    {
      "cell_type": "code",
      "source": [
        "HLF2 = HLF['CODIGO_HLF'].str.split(', ')\n",
        "HLF_list = []\n",
        "for i in range(len(HLF2)):\n",
        "  HLF_list = HLF_list + HLF2[i] \n",
        "try:\n",
        "  HLF_list.remove('')\n",
        "except:\n",
        "  pass\n",
        "HLF_name = []\n",
        "for elem in HLF_list:\n",
        "  HLF_name = HLF_name + HLF[HLF['CODIGO_HLF'].str.contains(elem)]['PRINCIPIO_ACTIVO'].values.tolist()"
      ],
      "metadata": {
        "id": "wFLtZJN_NDdn"
      },
      "execution_count": null,
      "outputs": []
    },
    {
      "cell_type": "code",
      "source": [
        "HLF_df = pd.DataFrame()\n",
        "HLF_df['CODIGO_MEDICAMENTO'] = HLF_list\n",
        "HLF_df['PRINCIPIO_ACTIVO'] = HLF_name"
      ],
      "metadata": {
        "id": "-risxcu7NG8x"
      },
      "execution_count": null,
      "outputs": []
    },
    {
      "cell_type": "code",
      "source": [
        "df = main_db.join(HLF_df.set_index('CODIGO_MEDICAMENTO'), on='CODIGO_MEDICAMENTO')"
      ],
      "metadata": {
        "id": "O3s1jaCiNKP2"
      },
      "execution_count": null,
      "outputs": []
    },
    {
      "cell_type": "code",
      "source": [
        "PA = sorted(df['PRINCIPIO_ACTIVO'].dropna().unique(), key=len, reverse=True)\n",
        "FF = sorted(df['FORMA_FARMA'].dropna().unique(), key=len, reverse=True)\n",
        "ADMIN = 'ORAL|INTRAVENOSA|INTRAVASCULAR|INTRAMUSCULAR|INTRATECAL|SUCUT.NEA|SUBLINGUAL|BUCAL|RECTAL|VAGINAL|OCULAR|.TICA|NASAL|INHALACI.N|NEBULIZACI.N|CUT.NEO|T.PIC.|TRANSD.RMICO'"
      ],
      "metadata": {
        "id": "JiVP7EjuNPnf"
      },
      "execution_count": null,
      "outputs": []
    },
    {
      "cell_type": "code",
      "source": [
        "def Reg_expresion(txt,PA,FF,ADMIN):\n",
        "  for elem in PA:\n",
        "    if re.search(elem.upper(), txt.upper()):\n",
        "      txt = re.sub(elem.upper(), '[B_ACTIVE_PRINCIPLE]'+elem+'[E_ACTIVE_PRINCIPLE]', txt)\n",
        "      break\n",
        "  for elem in FF:\n",
        "    if re.search(elem.upper(), txt.upper()):\n",
        "      txt =re.sub(elem.upper(), '[B_FORMA_FARMA]'+elem+'[E_FORMA_FARMA]',txt,1)\n",
        "      break\n",
        "  if re.search(r'cada [0-9].? d.as|cada [0-9].? horas|cada [0-9].? minutos|al acostarse|diari.|(\\w+) veces al d.a',txt):\n",
        "    elem = re.search(r'cada [0-9].? d.as|cada [0-9].? horas|cada [0-9].? minutos|al acostarse|diari.|(\\w+) veces al d.a',txt).group()\n",
        "    txt = re.sub(elem, '[B_PERIODICITY]'+elem+'[E_PERIODICITY]',txt,1)\n",
        "\n",
        "  if re.search('durante .+ d.as',txt):\n",
        "    elem = re.search('durante .+ d.as',txt).group()\n",
        "    txt = re.sub(elem, '[B_DURATION]'+elem+'[E_DURATION]',txt,1)\n",
        "\n",
        "  if re.search(ADMIN,txt):\n",
        "    elem = re.search(ADMIN,txt).group()\n",
        "    txt = re.sub(elem, '[B_ADMIN]'+elem+'[E_ADMIN]',txt,1)\n",
        "  return txt"
      ],
      "metadata": {
        "id": "HzQW7ak9SeaV"
      },
      "execution_count": null,
      "outputs": []
    },
    {
      "cell_type": "code",
      "source": [
        "def generate_column_o(corpus):\n",
        "  n = 0\n",
        "  for i in range(len(corpus)):\n",
        "    c = corpus[i].split()\n",
        "    for elem in c:\n",
        "      n+=1\n",
        "    n+=1\n",
        "  output = np.empty([n,2], dtype= object)\n",
        "  idx = 0\n",
        "  for i in range(len(corpus)):\n",
        "    c= corpus[i].split()\n",
        "    j=0\n",
        "    while j < len(c):\n",
        "      output[idx] = np.array([c[j], 'O'],dtype = object)\n",
        "      idx += 1\n",
        "      j+=1\n",
        "    output[idx] = np.array(['', ''],dtype = object)\n",
        "    idx += 1\n",
        "  return output"
      ],
      "metadata": {
        "id": "V5pN2aZS3BfV"
      },
      "execution_count": null,
      "outputs": []
    },
    {
      "cell_type": "code",
      "source": [
        "def etiquetar(corpus, PA,FF,ADMIN):\n",
        "  output = np.empty([len(corpus)],dtype = object)\n",
        "  for i in range(len(corpus)):\n",
        "    try:\n",
        "      output[i] = Reg_expresion(corpus[i],PA,FF,ADMIN)\n",
        "    except:\n",
        "      output[i] = corpus[i]\n",
        "  return output"
      ],
      "metadata": {
        "id": "FrudTTcx3Ma2"
      },
      "execution_count": null,
      "outputs": []
    },
    {
      "cell_type": "code",
      "source": [
        "def put_ticket(corpus):\n",
        "  print = 'O'\n",
        "  for i in range(len(corpus)):\n",
        "    if '[B_ACTIVE_PRINCIPLE]' in corpus[i,0] and '[E_ACTIVE_PRINCIPLE]' in corpus[i,0]:\n",
        "      corpus[i,1] = 'B-ACTIVE_PRINCIPLE'\n",
        "      corpus[i,0] = corpus[i,0].split(']')[1].split('[')[0]\n",
        "      print = 'O'\n",
        "    elif '[B_ACTIVE_PRINCIPLE]' in corpus[i,0]:\n",
        "      corpus[i,1] = 'B-ACTIVE_PRINCIPLE'\n",
        "      corpus[i,0] = corpus[i,0].split(']')[1]\n",
        "      print = 'I-ACTIVE_PRINCIPLE'\n",
        "    elif '[E_ACTIVE_PRINCIPLE]' in corpus[i,0]:\n",
        "      corpus[i,1] = 'I-ACTIVE_PRINCIPLE'\n",
        "      corpus[i,0] = corpus[i,0].split('[')[0]\n",
        "      print = 'O'\n",
        "    elif '[B_FORMA_FARMA]' in corpus[i,0] and '[E_FORMA_FARMA]' in corpus[i,0]:\n",
        "      corpus[i,1] = 'B-FORMA_FARMA'\n",
        "      corpus[i,0] = corpus[i,0].split(']')[1].split('[')[0]\n",
        "      print = 'O'\n",
        "    elif '[B_FORMA_FARMA]' in corpus[i,0]:\n",
        "      corpus[i,1] = 'B-FORMA_FARMA'\n",
        "      corpus[i,0] = corpus[i,0].split(']')[1]\n",
        "      print = 'I-FORMA_FARMA'\n",
        "    elif '[E_FORMA_FARMA]' in corpus[i,0]:\n",
        "      corpus[i,1] = 'I-FORMA_FARMA'\n",
        "      corpus[i,0] = corpus[i,0].split('[')[0]\n",
        "      print = 'O'\n",
        "    elif '[B_ADMIN]' in corpus[i,0] and '[E_ADMIN]' in corpus[i,0]:\n",
        "      corpus[i,1] = 'B-ADMIN'\n",
        "      corpus[i,0] = corpus[i,0].split(']')[1].split('[')[0]\n",
        "      print = 'O'\n",
        "    elif '[B_ADMIN]' in corpus[i,0]:\n",
        "      corpus[i,1] = 'B-ADMIN'\n",
        "      corpus[i,0] = corpus[i,0].split(']')[1]\n",
        "      print = 'I-ADMIN'\n",
        "    elif '[E_ADMIN]' in corpus[i,0]:\n",
        "      corpus[i,1] = 'I-ADMIN'\n",
        "      corpus[i,0] = corpus[i,0].split('[')[0]\n",
        "      print = 'O'\n",
        "    elif '[B_PERIODICITY]' in corpus[i,0] and '[E_PERIODICITY]' in corpus[i,0]:\n",
        "      corpus[i,1] = 'B-PERIODICITY'\n",
        "      corpus[i,0] = corpus[i,0].split(']')[1].split('[')[0]\n",
        "      print = 'O'\n",
        "    elif '[B_PERIODICITY]' in corpus[i,0]:\n",
        "      corpus[i,1] = 'B-PERIODICITY'\n",
        "      corpus[i,0] = corpus[i,0].split(']')[1]\n",
        "      print = 'I-PERIODICITY'\n",
        "    elif '[E_PERIODICITY]' in corpus[i,0]:\n",
        "      corpus[i,1] = 'I-PERIODICITY'\n",
        "      corpus[i,0] = corpus[i,0].split('[')[0]\n",
        "      print = 'O'\n",
        "    elif '[B_DURATION]' in corpus[i,0] and '[E_DURATION]' in corpus[i,0]:\n",
        "      corpus[i,1] = 'B-DURATION'\n",
        "      corpus[i,0] = corpus[i,0].split(']')[1].split('[')[0]\n",
        "      print = 'O'\n",
        "    elif '[B_DURATION]' in corpus[i,0]:\n",
        "      corpus[i,1] = 'B-DURATION'\n",
        "      corpus[i,0] = corpus[i,0].split(']')[1]\n",
        "      print = 'I-DURATION'\n",
        "    elif '[E_DURATION]' in corpus[i,0]:\n",
        "      corpus[i,1] = 'I-DURATION'\n",
        "      corpus[i,0] = corpus[i,0].split('[')[0]\n",
        "      print = 'O'\n",
        "    elif corpus[i,0] == '':\n",
        "      corpus[i,1] = ''\n",
        "    else:\n",
        "      corpus[i,1] = print"
      ],
      "metadata": {
        "id": "lE262Lnk8E1o"
      },
      "execution_count": null,
      "outputs": []
    },
    {
      "cell_type": "code",
      "source": [
        "corpus_ER_train = generate_column_o(etiquetar(a,PA,FF,ADMIN))\n",
        "put_ticket(corpus_ER_train)\n",
        "corpus_ER_test = generate_column_o(etiquetar(b,PA,FF,ADMIN))\n",
        "put_ticket(corpus_ER_test)"
      ],
      "metadata": {
        "id": "HlYnk9n_35tS"
      },
      "execution_count": null,
      "outputs": []
    },
    {
      "cell_type": "code",
      "source": [
        "np.savetxt('corpus_ER_train.txt',corpus_ER_train,fmt=\"%s\")\n",
        "np.savetxt('corpus_ER_test.txt',corpus_ER_test,fmt=\"%s\")"
      ],
      "metadata": {
        "id": "kiCWRcMNEZfM"
      },
      "execution_count": null,
      "outputs": []
    }
  ]
}