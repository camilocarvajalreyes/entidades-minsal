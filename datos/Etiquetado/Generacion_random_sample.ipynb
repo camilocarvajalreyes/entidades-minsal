{
  "nbformat": 4,
  "nbformat_minor": 0,
  "metadata": {
    "colab": {
      "provenance": []
    },
    "kernelspec": {
      "name": "python3",
      "display_name": "Python 3"
    },
    "language_info": {
      "name": "python"
    }
  },
  "cells": [
    {
      "cell_type": "code",
      "execution_count": 1,
      "metadata": {
        "id": "E0AYzfZ6h2v3"
      },
      "outputs": [],
      "source": [
        "import pandas as pd\n",
        "import numpy as np\n",
        "import matplotlib.pyplot as plt"
      ]
    },
    {
      "cell_type": "code",
      "source": [
        "#Descarga de datos\n",
        "!gdown --id '1vcYj7xDwH38AZ8L2AHp-zdqddK-KeaVI'\n",
        "!gdown --id '1pyy6OWkNxbLsfaIRqzMD06aGqPTIc_DG'"
      ],
      "metadata": {
        "colab": {
          "base_uri": "https://localhost:8080/"
        },
        "id": "qiLE7mDI-34N",
        "outputId": "90c7e4a6-1027-4d7d-94e0-a254a2099942"
      },
      "execution_count": 2,
      "outputs": [
        {
          "output_type": "stream",
          "name": "stdout",
          "text": [
            "/usr/local/lib/python3.7/dist-packages/gdown/cli.py:131: FutureWarning: Option `--id` was deprecated in version 4.3.1 and will be removed in 5.0. You don't need to pass it anymore to use a file ID.\n",
            "  category=FutureWarning,\n",
            "Downloading...\n",
            "From: https://drive.google.com/uc?id=1vcYj7xDwH38AZ8L2AHp-zdqddK-KeaVI\n",
            "To: /content/DATA_HLF_MDS_2.csv\n",
            "100% 477M/477M [00:02<00:00, 223MB/s]\n",
            "/usr/local/lib/python3.7/dist-packages/gdown/cli.py:131: FutureWarning: Option `--id` was deprecated in version 4.3.1 and will be removed in 5.0. You don't need to pass it anymore to use a file ID.\n",
            "  category=FutureWarning,\n",
            "Downloading...\n",
            "From: https://drive.google.com/uc?id=1pyy6OWkNxbLsfaIRqzMD06aGqPTIc_DG\n",
            "To: /content/PRINCIPIOS_ACTIVOS_MDS.xlsx\n",
            "100% 69.2k/69.2k [00:00<00:00, 67.2MB/s]\n"
          ]
        }
      ]
    },
    {
      "cell_type": "code",
      "source": [
        "#Al importar los datos estan corridos, se puede ver en Resumen y FormaFrama, donde estan corridos en una posicion hacia abajo\n",
        "main_db = pd.read_csv('/content/DATA_HLF_MDS_2.csv',sep=',')"
      ],
      "metadata": {
        "id": "sCS2AmzQ_aIV"
      },
      "execution_count": 3,
      "outputs": []
    },
    {
      "cell_type": "code",
      "source": [
        "code_db = pd.read_excel('/content/PRINCIPIOS_ACTIVOS_MDS.xlsx')\n",
        "HLF = code_db.loc[:,['PRINCIPIO_ACTIVO','CODIGO_HLF']]"
      ],
      "metadata": {
        "id": "s9NI1ClMM_Vy"
      },
      "execution_count": 4,
      "outputs": []
    },
    {
      "cell_type": "code",
      "source": [
        "HLF2 = HLF['CODIGO_HLF'].str.split(', ')\n",
        "HLF_list = []\n",
        "for i in range(len(HLF2)):\n",
        "  HLF_list = HLF_list + HLF2[i] \n",
        "try:\n",
        "  HLF_list.remove('')\n",
        "except:\n",
        "  pass\n",
        "HLF_name = []\n",
        "for elem in HLF_list:\n",
        "  HLF_name = HLF_name + HLF[HLF['CODIGO_HLF'].str.contains(elem)]['PRINCIPIO_ACTIVO'].values.tolist()"
      ],
      "metadata": {
        "id": "wFLtZJN_NDdn"
      },
      "execution_count": 5,
      "outputs": []
    },
    {
      "cell_type": "code",
      "source": [
        "HLF_df = pd.DataFrame()\n",
        "HLF_df['CODIGO_MEDICAMENTO'] = HLF_list\n",
        "HLF_df['PRINCIPIO_ACTIVO'] = HLF_name\n",
        "HLF_df"
      ],
      "metadata": {
        "id": "-risxcu7NG8x",
        "colab": {
          "base_uri": "https://localhost:8080/",
          "height": 424
        },
        "outputId": "d7294115-cd19-426a-fec3-16c866f7529a"
      },
      "execution_count": 6,
      "outputs": [
        {
          "output_type": "execute_result",
          "data": {
            "text/plain": [
              "    CODIGO_MEDICAMENTO    PRINCIPIO_ACTIVO\n",
              "0            FAJJ05004  ABACAVIR (SULFATO)\n",
              "1            FABB01001        ACENOCUMAROL\n",
              "2            FAAA12016   ACETATO DE CALCIO\n",
              "3            FASS01001       ACETAZOLAMIDA\n",
              "4            FAVV03008      ACETILCISTEINA\n",
              "..                 ...                 ...\n",
              "571          FAJJ05039          ZIDOVUDINA\n",
              "572          FAJJ05040          ZIDOVUDINA\n",
              "573          FAAA12011        ZINC SULFATO\n",
              "574          FANN05035         ZIPRASIDONA\n",
              "575          FANN05036           ZOPICLONA\n",
              "\n",
              "[576 rows x 2 columns]"
            ],
            "text/html": [
              "\n",
              "  <div id=\"df-2ac1f873-47d7-4fe3-a4bc-b3718710f8d1\">\n",
              "    <div class=\"colab-df-container\">\n",
              "      <div>\n",
              "<style scoped>\n",
              "    .dataframe tbody tr th:only-of-type {\n",
              "        vertical-align: middle;\n",
              "    }\n",
              "\n",
              "    .dataframe tbody tr th {\n",
              "        vertical-align: top;\n",
              "    }\n",
              "\n",
              "    .dataframe thead th {\n",
              "        text-align: right;\n",
              "    }\n",
              "</style>\n",
              "<table border=\"1\" class=\"dataframe\">\n",
              "  <thead>\n",
              "    <tr style=\"text-align: right;\">\n",
              "      <th></th>\n",
              "      <th>CODIGO_MEDICAMENTO</th>\n",
              "      <th>PRINCIPIO_ACTIVO</th>\n",
              "    </tr>\n",
              "  </thead>\n",
              "  <tbody>\n",
              "    <tr>\n",
              "      <th>0</th>\n",
              "      <td>FAJJ05004</td>\n",
              "      <td>ABACAVIR (SULFATO)</td>\n",
              "    </tr>\n",
              "    <tr>\n",
              "      <th>1</th>\n",
              "      <td>FABB01001</td>\n",
              "      <td>ACENOCUMAROL</td>\n",
              "    </tr>\n",
              "    <tr>\n",
              "      <th>2</th>\n",
              "      <td>FAAA12016</td>\n",
              "      <td>ACETATO DE CALCIO</td>\n",
              "    </tr>\n",
              "    <tr>\n",
              "      <th>3</th>\n",
              "      <td>FASS01001</td>\n",
              "      <td>ACETAZOLAMIDA</td>\n",
              "    </tr>\n",
              "    <tr>\n",
              "      <th>4</th>\n",
              "      <td>FAVV03008</td>\n",
              "      <td>ACETILCISTEINA</td>\n",
              "    </tr>\n",
              "    <tr>\n",
              "      <th>...</th>\n",
              "      <td>...</td>\n",
              "      <td>...</td>\n",
              "    </tr>\n",
              "    <tr>\n",
              "      <th>571</th>\n",
              "      <td>FAJJ05039</td>\n",
              "      <td>ZIDOVUDINA</td>\n",
              "    </tr>\n",
              "    <tr>\n",
              "      <th>572</th>\n",
              "      <td>FAJJ05040</td>\n",
              "      <td>ZIDOVUDINA</td>\n",
              "    </tr>\n",
              "    <tr>\n",
              "      <th>573</th>\n",
              "      <td>FAAA12011</td>\n",
              "      <td>ZINC SULFATO</td>\n",
              "    </tr>\n",
              "    <tr>\n",
              "      <th>574</th>\n",
              "      <td>FANN05035</td>\n",
              "      <td>ZIPRASIDONA</td>\n",
              "    </tr>\n",
              "    <tr>\n",
              "      <th>575</th>\n",
              "      <td>FANN05036</td>\n",
              "      <td>ZOPICLONA</td>\n",
              "    </tr>\n",
              "  </tbody>\n",
              "</table>\n",
              "<p>576 rows × 2 columns</p>\n",
              "</div>\n",
              "      <button class=\"colab-df-convert\" onclick=\"convertToInteractive('df-2ac1f873-47d7-4fe3-a4bc-b3718710f8d1')\"\n",
              "              title=\"Convert this dataframe to an interactive table.\"\n",
              "              style=\"display:none;\">\n",
              "        \n",
              "  <svg xmlns=\"http://www.w3.org/2000/svg\" height=\"24px\"viewBox=\"0 0 24 24\"\n",
              "       width=\"24px\">\n",
              "    <path d=\"M0 0h24v24H0V0z\" fill=\"none\"/>\n",
              "    <path d=\"M18.56 5.44l.94 2.06.94-2.06 2.06-.94-2.06-.94-.94-2.06-.94 2.06-2.06.94zm-11 1L8.5 8.5l.94-2.06 2.06-.94-2.06-.94L8.5 2.5l-.94 2.06-2.06.94zm10 10l.94 2.06.94-2.06 2.06-.94-2.06-.94-.94-2.06-.94 2.06-2.06.94z\"/><path d=\"M17.41 7.96l-1.37-1.37c-.4-.4-.92-.59-1.43-.59-.52 0-1.04.2-1.43.59L10.3 9.45l-7.72 7.72c-.78.78-.78 2.05 0 2.83L4 21.41c.39.39.9.59 1.41.59.51 0 1.02-.2 1.41-.59l7.78-7.78 2.81-2.81c.8-.78.8-2.07 0-2.86zM5.41 20L4 18.59l7.72-7.72 1.47 1.35L5.41 20z\"/>\n",
              "  </svg>\n",
              "      </button>\n",
              "      \n",
              "  <style>\n",
              "    .colab-df-container {\n",
              "      display:flex;\n",
              "      flex-wrap:wrap;\n",
              "      gap: 12px;\n",
              "    }\n",
              "\n",
              "    .colab-df-convert {\n",
              "      background-color: #E8F0FE;\n",
              "      border: none;\n",
              "      border-radius: 50%;\n",
              "      cursor: pointer;\n",
              "      display: none;\n",
              "      fill: #1967D2;\n",
              "      height: 32px;\n",
              "      padding: 0 0 0 0;\n",
              "      width: 32px;\n",
              "    }\n",
              "\n",
              "    .colab-df-convert:hover {\n",
              "      background-color: #E2EBFA;\n",
              "      box-shadow: 0px 1px 2px rgba(60, 64, 67, 0.3), 0px 1px 3px 1px rgba(60, 64, 67, 0.15);\n",
              "      fill: #174EA6;\n",
              "    }\n",
              "\n",
              "    [theme=dark] .colab-df-convert {\n",
              "      background-color: #3B4455;\n",
              "      fill: #D2E3FC;\n",
              "    }\n",
              "\n",
              "    [theme=dark] .colab-df-convert:hover {\n",
              "      background-color: #434B5C;\n",
              "      box-shadow: 0px 1px 3px 1px rgba(0, 0, 0, 0.15);\n",
              "      filter: drop-shadow(0px 1px 2px rgba(0, 0, 0, 0.3));\n",
              "      fill: #FFFFFF;\n",
              "    }\n",
              "  </style>\n",
              "\n",
              "      <script>\n",
              "        const buttonEl =\n",
              "          document.querySelector('#df-2ac1f873-47d7-4fe3-a4bc-b3718710f8d1 button.colab-df-convert');\n",
              "        buttonEl.style.display =\n",
              "          google.colab.kernel.accessAllowed ? 'block' : 'none';\n",
              "\n",
              "        async function convertToInteractive(key) {\n",
              "          const element = document.querySelector('#df-2ac1f873-47d7-4fe3-a4bc-b3718710f8d1');\n",
              "          const dataTable =\n",
              "            await google.colab.kernel.invokeFunction('convertToInteractive',\n",
              "                                                     [key], {});\n",
              "          if (!dataTable) return;\n",
              "\n",
              "          const docLinkHtml = 'Like what you see? Visit the ' +\n",
              "            '<a target=\"_blank\" href=https://colab.research.google.com/notebooks/data_table.ipynb>data table notebook</a>'\n",
              "            + ' to learn more about interactive tables.';\n",
              "          element.innerHTML = '';\n",
              "          dataTable['output_type'] = 'display_data';\n",
              "          await google.colab.output.renderOutput(dataTable, element);\n",
              "          const docLink = document.createElement('div');\n",
              "          docLink.innerHTML = docLinkHtml;\n",
              "          element.appendChild(docLink);\n",
              "        }\n",
              "      </script>\n",
              "    </div>\n",
              "  </div>\n",
              "  "
            ]
          },
          "metadata": {},
          "execution_count": 6
        }
      ]
    },
    {
      "cell_type": "code",
      "source": [
        "df = main_db.join(HLF_df.set_index('CODIGO_MEDICAMENTO'), on='CODIGO_MEDICAMENTO')"
      ],
      "metadata": {
        "id": "O3s1jaCiNKP2"
      },
      "execution_count": 7,
      "outputs": []
    },
    {
      "cell_type": "code",
      "source": [
        "corpus = (df['PRES_DENOMINACION']+ ' ' +df['RESUMEN']).dropna().unique()"
      ],
      "metadata": {
        "id": "sfLyw3tszc-2"
      },
      "execution_count": 8,
      "outputs": []
    },
    {
      "cell_type": "code",
      "source": [
        "#generacion de corpus random de 1000 ejemplos a etiquetar en label studio random_state = 10\n",
        "import random\n",
        "\n",
        "random.seed(10)\n",
        "corpus_sample = random.choices(corpus,k=1500)"
      ],
      "metadata": {
        "id": "im-sOovzEOBV"
      },
      "execution_count": 10,
      "outputs": []
    },
    {
      "cell_type": "code",
      "source": [
        "corpus_s1 = corpus_sample[:250]\n",
        "corpus_s2 = corpus_sample[250:500]\n",
        "corpus_s3 = corpus_sample[500:750]\n",
        "corpus_s4 = corpus_sample[750:1000]\n",
        "corpus_test = corpus_sample[1000:]"
      ],
      "metadata": {
        "id": "ao7L3KUHEu80"
      },
      "execution_count": 14,
      "outputs": []
    },
    {
      "cell_type": "code",
      "source": [
        "np.savetxt('corpus_s1.txt',corpus_s1,fmt=\"%s\")\n",
        "np.savetxt('corpus_s2.txt',corpus_s2,fmt=\"%s\")\n",
        "np.savetxt('corpus_s3.txt',corpus_s3,fmt=\"%s\")\n",
        "np.savetxt('corpus_s4.txt',corpus_s4,fmt=\"%s\")\n",
        "np.savetxt('corpus_test.txt',corpus_test,fmt=\"%s\")"
      ],
      "metadata": {
        "id": "NsHEzNO5FJW2"
      },
      "execution_count": 16,
      "outputs": []
    }
  ]
}