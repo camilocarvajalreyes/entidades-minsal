{
  "cells": [
    {
      "cell_type": "code",
      "execution_count": 36,
      "metadata": {
        "id": "E0AYzfZ6h2v3"
      },
      "outputs": [],
      "source": [
        "import pandas as pd\n",
        "import numpy as np\n",
        "import matplotlib.pyplot as plt\n",
        "from sklearn.model_selection import train_test_split"
      ]
    },
    {
      "cell_type": "code",
      "execution_count": 37,
      "metadata": {
        "colab": {
          "base_uri": "https://localhost:8080/"
        },
        "id": "qiLE7mDI-34N",
        "outputId": "90c7e4a6-1027-4d7d-94e0-a254a2099942"
      },
      "outputs": [
        {
          "name": "stdout",
          "output_type": "stream",
          "text": [
            "Access denied with the following error:"
          ]
        },
        {
          "name": "stderr",
          "output_type": "stream",
          "text": [
            "C:\\Users\\Daniel\\AppData\\Local\\Programs\\Python\\Python310\\lib\\site-packages\\gdown\\cli.py:127: FutureWarning: Option `--id` was deprecated in version 4.3.1 and will be removed in 5.0. You don't need to pass it anymore to use a file ID.\n",
            "  warnings.warn(\n",
            "\n",
            " \tCannot retrieve the public link of the file. You may need to change\n",
            "\tthe permission to 'Anyone with the link', or have had many accesses. \n",
            "\n",
            "You may still be able to access the file from the browser:\n",
            "\n",
            "\t https://drive.google.com/uc?id='1vcYj7xDwH38AZ8L2AHp-zdqddK-KeaVI' \n",
            "\n"
          ]
        },
        {
          "name": "stdout",
          "output_type": "stream",
          "text": [
            "\n",
            "Access denied with the following error:\n"
          ]
        },
        {
          "name": "stderr",
          "output_type": "stream",
          "text": [
            "C:\\Users\\Daniel\\AppData\\Local\\Programs\\Python\\Python310\\lib\\site-packages\\gdown\\cli.py:127: FutureWarning: Option `--id` was deprecated in version 4.3.1 and will be removed in 5.0. You don't need to pass it anymore to use a file ID.\n",
            "  warnings.warn(\n",
            "\n",
            " \tCannot retrieve the public link of the file. You may need to change\n",
            "\tthe permission to 'Anyone with the link', or have had many accesses. \n",
            "\n",
            "You may still be able to access the file from the browser:\n",
            "\n",
            "\t https://drive.google.com/uc?id='1pyy6OWkNxbLsfaIRqzMD06aGqPTIc_DG' \n",
            "\n"
          ]
        }
      ],
      "source": [
        "#Descarga de datos\n",
        "!gdown --id '1vcYj7xDwH38AZ8L2AHp-zdqddK-KeaVI'\n",
        "!gdown --id '1pyy6OWkNxbLsfaIRqzMD06aGqPTIc_DG'"
      ]
    },
    {
      "cell_type": "code",
      "execution_count": 38,
      "metadata": {
        "id": "sCS2AmzQ_aIV"
      },
      "outputs": [],
      "source": [
        "#Al importar los datos estan corridos, se puede ver en Resumen y FormaFrama, donde estan corridos en una posicion hacia abajo\n",
        "main_db = pd.read_csv('..\\DATA_HLF_MDS_2.csv',sep=',')"
      ]
    },
    {
      "cell_type": "code",
      "execution_count": 39,
      "metadata": {
        "id": "s9NI1ClMM_Vy"
      },
      "outputs": [],
      "source": [
        "code_db = pd.read_excel('..\\PRINCIPIOS_ACTIVOS_MDS.xlsx')\n",
        "HLF = code_db.loc[:,['PRINCIPIO_ACTIVO','CODIGO_HLF']]"
      ]
    },
    {
      "cell_type": "code",
      "execution_count": 40,
      "metadata": {
        "id": "wFLtZJN_NDdn"
      },
      "outputs": [],
      "source": [
        "HLF2 = HLF['CODIGO_HLF'].str.split(', ')\n",
        "HLF_list = []\n",
        "for i in range(len(HLF2)):\n",
        "  HLF_list = HLF_list + HLF2[i] \n",
        "try:\n",
        "  HLF_list.remove('')\n",
        "except:\n",
        "  pass\n",
        "HLF_name = []\n",
        "for elem in HLF_list:\n",
        "  HLF_name = HLF_name + HLF[HLF['CODIGO_HLF'].str.contains(elem)]['PRINCIPIO_ACTIVO'].values.tolist()"
      ]
    },
    {
      "cell_type": "code",
      "execution_count": 41,
      "metadata": {
        "colab": {
          "base_uri": "https://localhost:8080/",
          "height": 424
        },
        "id": "-risxcu7NG8x",
        "outputId": "d7294115-cd19-426a-fec3-16c866f7529a"
      },
      "outputs": [
        {
          "data": {
            "text/html": [
              "<div>\n",
              "<style scoped>\n",
              "    .dataframe tbody tr th:only-of-type {\n",
              "        vertical-align: middle;\n",
              "    }\n",
              "\n",
              "    .dataframe tbody tr th {\n",
              "        vertical-align: top;\n",
              "    }\n",
              "\n",
              "    .dataframe thead th {\n",
              "        text-align: right;\n",
              "    }\n",
              "</style>\n",
              "<table border=\"1\" class=\"dataframe\">\n",
              "  <thead>\n",
              "    <tr style=\"text-align: right;\">\n",
              "      <th></th>\n",
              "      <th>CODIGO_MEDICAMENTO</th>\n",
              "      <th>PRINCIPIO_ACTIVO</th>\n",
              "    </tr>\n",
              "  </thead>\n",
              "  <tbody>\n",
              "    <tr>\n",
              "      <th>0</th>\n",
              "      <td>FAJJ05004</td>\n",
              "      <td>ABACAVIR (SULFATO)</td>\n",
              "    </tr>\n",
              "    <tr>\n",
              "      <th>1</th>\n",
              "      <td>FABB01001</td>\n",
              "      <td>ACENOCUMAROL</td>\n",
              "    </tr>\n",
              "    <tr>\n",
              "      <th>2</th>\n",
              "      <td>FAAA12016</td>\n",
              "      <td>ACETATO DE CALCIO</td>\n",
              "    </tr>\n",
              "    <tr>\n",
              "      <th>3</th>\n",
              "      <td>FASS01001</td>\n",
              "      <td>ACETAZOLAMIDA</td>\n",
              "    </tr>\n",
              "    <tr>\n",
              "      <th>4</th>\n",
              "      <td>FAVV03008</td>\n",
              "      <td>ACETILCISTEINA</td>\n",
              "    </tr>\n",
              "    <tr>\n",
              "      <th>...</th>\n",
              "      <td>...</td>\n",
              "      <td>...</td>\n",
              "    </tr>\n",
              "    <tr>\n",
              "      <th>571</th>\n",
              "      <td>FAJJ05039</td>\n",
              "      <td>ZIDOVUDINA</td>\n",
              "    </tr>\n",
              "    <tr>\n",
              "      <th>572</th>\n",
              "      <td>FAJJ05040</td>\n",
              "      <td>ZIDOVUDINA</td>\n",
              "    </tr>\n",
              "    <tr>\n",
              "      <th>573</th>\n",
              "      <td>FAAA12011</td>\n",
              "      <td>ZINC SULFATO</td>\n",
              "    </tr>\n",
              "    <tr>\n",
              "      <th>574</th>\n",
              "      <td>FANN05035</td>\n",
              "      <td>ZIPRASIDONA</td>\n",
              "    </tr>\n",
              "    <tr>\n",
              "      <th>575</th>\n",
              "      <td>FANN05036</td>\n",
              "      <td>ZOPICLONA</td>\n",
              "    </tr>\n",
              "  </tbody>\n",
              "</table>\n",
              "<p>576 rows × 2 columns</p>\n",
              "</div>"
            ],
            "text/plain": [
              "    CODIGO_MEDICAMENTO    PRINCIPIO_ACTIVO\n",
              "0            FAJJ05004  ABACAVIR (SULFATO)\n",
              "1            FABB01001        ACENOCUMAROL\n",
              "2            FAAA12016   ACETATO DE CALCIO\n",
              "3            FASS01001       ACETAZOLAMIDA\n",
              "4            FAVV03008      ACETILCISTEINA\n",
              "..                 ...                 ...\n",
              "571          FAJJ05039          ZIDOVUDINA\n",
              "572          FAJJ05040          ZIDOVUDINA\n",
              "573          FAAA12011        ZINC SULFATO\n",
              "574          FANN05035         ZIPRASIDONA\n",
              "575          FANN05036           ZOPICLONA\n",
              "\n",
              "[576 rows x 2 columns]"
            ]
          },
          "execution_count": 41,
          "metadata": {},
          "output_type": "execute_result"
        }
      ],
      "source": [
        "HLF_df = pd.DataFrame()\n",
        "HLF_df['CODIGO_MEDICAMENTO'] = HLF_list\n",
        "HLF_df['PRINCIPIO_ACTIVO'] = HLF_name\n",
        "HLF_df"
      ]
    },
    {
      "cell_type": "code",
      "execution_count": 42,
      "metadata": {
        "id": "O3s1jaCiNKP2"
      },
      "outputs": [],
      "source": [
        "df = main_db.join(HLF_df.set_index('CODIGO_MEDICAMENTO'), on='CODIGO_MEDICAMENTO')"
      ]
    },
    {
      "cell_type": "code",
      "execution_count": 43,
      "metadata": {
        "id": "sfLyw3tszc-2"
      },
      "outputs": [],
      "source": [
        "corpus = (df['PRES_DENOMINACION']+ ' ' +df['RESUMEN']).dropna().unique()"
      ]
    },
    {
      "cell_type": "code",
      "execution_count": 44,
      "metadata": {
        "id": "im-sOovzEOBV"
      },
      "outputs": [],
      "source": [
        "#generacion de corpus random de 1000 ejemplos a etiquetar en label studio random_state = 10\n",
        "import random\n",
        "\n",
        "random.seed(10)\n",
        "corpus_sample = random.choices(corpus,k=1500)"
      ]
    },
    {
      "cell_type": "code",
      "execution_count": 45,
      "metadata": {
        "id": "ao7L3KUHEu80"
      },
      "outputs": [],
      "source": [
        "corpus_s1 = corpus_sample[:250]\n",
        "corpus_s2 = corpus_sample[250:500]\n",
        "corpus_s3 = corpus_sample[500:750]\n",
        "corpus_s4 = corpus_sample[750:1000]\n",
        "corpus_test = corpus_sample[1000:]"
      ]
    },
    {
      "cell_type": "code",
      "execution_count": 46,
      "metadata": {
        "id": "NsHEzNO5FJW2"
      },
      "outputs": [],
      "source": [
        "np.savetxt('corpus_s1.txt',corpus_s1,fmt=\"%s\")\n",
        "np.savetxt('corpus_s2.txt',corpus_s2,fmt=\"%s\")\n",
        "np.savetxt('corpus_s3.txt',corpus_s3,fmt=\"%s\")\n",
        "np.savetxt('corpus_s4.txt',corpus_s4,fmt=\"%s\")\n",
        "np.savetxt('corpus_test.txt',corpus_test,fmt=\"%s\")"
      ]
    },
    {
      "cell_type": "code",
      "execution_count": 47,
      "metadata": {},
      "outputs": [
        {
          "name": "stdout",
          "output_type": "stream",
          "text": [
            "108049 (108049,) <class 'numpy.ndarray'>\n",
            "1500 <class 'list'>\n"
          ]
        }
      ],
      "source": [
        "print(len(corpus), corpus.shape, type(corpus))\n",
        "print(len(corpus_sample), type(corpus_sample))"
      ]
    },
    {
      "cell_type": "code",
      "execution_count": 48,
      "metadata": {},
      "outputs": [
        {
          "name": "stdout",
          "output_type": "stream",
          "text": [
            "85245 21312\n"
          ]
        }
      ],
      "source": [
        "corpus_100k = np.setdiff1d(corpus, np.asanyarray(corpus_sample))\n",
        "\n",
        "corpus_100k_train, corpus_100k_test = train_test_split(corpus_100k, test_size=0.2, random_state=10)\n",
        "print(len(corpus_100k_train), len(corpus_100k_test))"
      ]
    },
    {
      "cell_type": "code",
      "execution_count": 49,
      "metadata": {},
      "outputs": [],
      "source": [
        "np.savetxt('corpus_100k_train.txt',corpus_100k_train,fmt=\"%s\")\n",
        "np.savetxt('corpus_100k_test.txt',corpus_100k_test,fmt=\"%s\")\n"
      ]
    }
  ],
  "metadata": {
    "colab": {
      "provenance": []
    },
    "kernelspec": {
      "display_name": "Python 3.10.2 64-bit",
      "language": "python",
      "name": "python3"
    },
    "language_info": {
      "codemirror_mode": {
        "name": "ipython",
        "version": 3
      },
      "file_extension": ".py",
      "mimetype": "text/x-python",
      "name": "python",
      "nbconvert_exporter": "python",
      "pygments_lexer": "ipython3",
      "version": "3.10.2"
    },
    "vscode": {
      "interpreter": {
        "hash": "32f2fe102a4f10662d8c13f75131e1ba377b7194060421a642fdea27c55fc65a"
      }
    }
  },
  "nbformat": 4,
  "nbformat_minor": 0
}
