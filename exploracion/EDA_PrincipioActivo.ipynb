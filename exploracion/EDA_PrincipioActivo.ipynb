{
  "nbformat": 4,
  "nbformat_minor": 0,
  "metadata": {
    "colab": {
      "provenance": []
    },
    "kernelspec": {
      "name": "python3",
      "display_name": "Python 3"
    },
    "language_info": {
      "name": "python"
    }
  },
  "cells": [
    {
      "cell_type": "code",
      "execution_count": 2,
      "metadata": {
        "id": "q-BsCFWo-gWX"
      },
      "outputs": [],
      "source": [
        "import pandas as pd\n",
        "import numpy as np\n",
        "import matplotlib.pyplot as plt"
      ]
    },
    {
      "cell_type": "code",
      "source": [
        "#Descarga de datos\n",
        "!gdown --id '1vcYj7xDwH38AZ8L2AHp-zdqddK-KeaVI'\n",
        "!gdown --id '1pyy6OWkNxbLsfaIRqzMD06aGqPTIc_DG'"
      ],
      "metadata": {
        "colab": {
          "base_uri": "https://localhost:8080/"
        },
        "id": "qiLE7mDI-34N",
        "outputId": "61f76134-d8f9-4dde-b59e-0b1c13979d21"
      },
      "execution_count": 3,
      "outputs": [
        {
          "output_type": "stream",
          "name": "stdout",
          "text": [
            "/usr/local/lib/python3.7/dist-packages/gdown/cli.py:131: FutureWarning: Option `--id` was deprecated in version 4.3.1 and will be removed in 5.0. You don't need to pass it anymore to use a file ID.\n",
            "  category=FutureWarning,\n",
            "Downloading...\n",
            "From: https://drive.google.com/uc?id=1vcYj7xDwH38AZ8L2AHp-zdqddK-KeaVI\n",
            "To: /content/DATA_HLF_MDS_2.csv\n",
            "100% 477M/477M [00:03<00:00, 150MB/s]\n",
            "/usr/local/lib/python3.7/dist-packages/gdown/cli.py:131: FutureWarning: Option `--id` was deprecated in version 4.3.1 and will be removed in 5.0. You don't need to pass it anymore to use a file ID.\n",
            "  category=FutureWarning,\n",
            "Downloading...\n",
            "From: https://drive.google.com/uc?id=1pyy6OWkNxbLsfaIRqzMD06aGqPTIc_DG\n",
            "To: /content/PRINCIPIOS_ACTIVOS_MDS.xlsx\n",
            "100% 69.2k/69.2k [00:00<00:00, 50.6MB/s]\n"
          ]
        }
      ]
    },
    {
      "cell_type": "code",
      "source": [
        "#Al importar los datos estan corridos, se puede ver en Resumen y FormaFrama, donde estan corridos en una posicion hacia abajo\n",
        "main_db = pd.read_csv('/content/DATA_HLF_MDS_2.csv',sep=',')\n",
        "main_db.info()\n",
        "main_db.shape"
      ],
      "metadata": {
        "colab": {
          "base_uri": "https://localhost:8080/"
        },
        "id": "sCS2AmzQ_aIV",
        "outputId": "de1ade69-422e-45d4-9a6e-9f232bc175f2"
      },
      "execution_count": 4,
      "outputs": [
        {
          "output_type": "stream",
          "name": "stdout",
          "text": [
            "<class 'pandas.core.frame.DataFrame'>\n",
            "RangeIndex: 1526557 entries, 0 to 1526556\n",
            "Data columns (total 21 columns):\n",
            " #   Column                Non-Null Count    Dtype  \n",
            "---  ------                --------------    -----  \n",
            " 0   index                 1526557 non-null  int64  \n",
            " 1   PRES_FECHA            1526556 non-null  object \n",
            " 2   CODIGO                1526557 non-null  object \n",
            " 3   PATIENT_ID            1526557 non-null  int64  \n",
            " 4   LINEA                 1526557 non-null  object \n",
            " 5   EPISCODE              1526557 non-null  object \n",
            " 6   CODESPECIALIDAD       1526556 non-null  object \n",
            " 7   ESPECIALIDAD          1526556 non-null  object \n",
            " 8   SALA                  1526508 non-null  object \n",
            " 9   CAMA                  1526556 non-null  object \n",
            " 10  AREA_KEY              1526556 non-null  object \n",
            " 11  DIAGCODE              687787 non-null   object \n",
            " 12  DIAGDESC              1526556 non-null  object \n",
            " 13  CODIGO_MEDICAMENTO    1508178 non-null  object \n",
            " 14  ESTADO_PRESCR         1526556 non-null  object \n",
            " 15  PRES_DENOMINACION     1489517 non-null  object \n",
            " 16  RESUMEN               1526556 non-null  object \n",
            " 17  FORMA_FARMA           1426243 non-null  object \n",
            " 18  IND_ADMINISTRACION_1  31525 non-null    object \n",
            " 19  IND_ADMINISTRACION_2  363678 non-null   object \n",
            " 20  MEDICO_ID             1485986 non-null  float64\n",
            "dtypes: float64(1), int64(2), object(18)\n",
            "memory usage: 244.6+ MB\n"
          ]
        },
        {
          "output_type": "execute_result",
          "data": {
            "text/plain": [
              "(1526557, 21)"
            ]
          },
          "metadata": {},
          "execution_count": 4
        }
      ]
    },
    {
      "cell_type": "code",
      "source": [
        "main_db.loc[:,['CODIGO_MEDICAMENTO','PRES_DENOMINACION', 'RESUMEN', 'FORMA_FARMA', 'IND_ADMINISTRACION_1', 'IND_ADMINISTRACION_2']]"
      ],
      "metadata": {
        "colab": {
          "base_uri": "https://localhost:8080/",
          "height": 1000
        },
        "id": "4HTE6apHBJhr",
        "outputId": "ca071012-acdb-4e26-884a-3509a2f3b4be"
      },
      "execution_count": 5,
      "outputs": [
        {
          "output_type": "execute_result",
          "data": {
            "text/plain": [
              "        CODIGO_MEDICAMENTO                                  PRES_DENOMINACION  \\\n",
              "0                FAJJ01015                                                NaN   \n",
              "1                FANN02016                      PARACETAMOL 500 MG COMPRIMIDO   \n",
              "2                FAMM01012                        KETOROLACO 10 MG COMPRIMIDO   \n",
              "3                FAMM01012                        KETOROLACO 10 MG COMPRIMIDO   \n",
              "4                FANN02016                      PARACETAMOL 500 MG COMPRIMIDO   \n",
              "...                    ...                                                ...   \n",
              "1526552          FABB01002  ÁCIDO ACETILSALICÍLICO 100 MG COMPRIMIDO RECUB...   \n",
              "1526553          FACC09001                         CAPTOPRIL 25 MG COMPRIMIDO   \n",
              "1526554          FANN02016                      PARACETAMOL 500 MG COMPRIMIDO   \n",
              "1526555          FAAA10002  INSULINA CRISTALINA HUMANA 100 U.I./ML SOLUCIO...   \n",
              "1526556                NaN                                                NaN   \n",
              "\n",
              "                                                   RESUMEN  \\\n",
              "0          1 COMPRIMIDO ORAL cada 12 horas durante 7 dias    \n",
              "1           1 COMPRIMIDO ORAL cada 6 horas durante 3 dias    \n",
              "2           1 COMPRIMIDO ORAL cada 8 horas durante 3 dias    \n",
              "3           1 COMPRIMIDO ORAL cada 8 horas durante 5 dias    \n",
              "4           1 COMPRIMIDO ORAL cada 6 horas durante 3 dias    \n",
              "...                                                    ...   \n",
              "1526552                          1 COMPRIMIDO ORAL diaria    \n",
              "1526553                    1 COMPRIMIDO ORAL cada 8 horas    \n",
              "1526554                    2 COMPRIMIDO ORAL cada 8 horas    \n",
              "1526555                 2 UNIDAD INTRAVENOSA cada 6 horas    \n",
              "1526556   150.0 ml / 24 h  ( Velocidad  0.63 ml/h )INTR...   \n",
              "\n",
              "                          FORMA_FARMA IND_ADMINISTRACION_1  \\\n",
              "0                                 NaN                  NaN   \n",
              "1                          comprimido                  NaN   \n",
              "2               comprimido recubierto                  NaN   \n",
              "3               comprimido recubierto                  NaN   \n",
              "4                          comprimido                  NaN   \n",
              "...                               ...                  ...   \n",
              "1526552  comprimido gastrorresistente                  NaN   \n",
              "1526553                    comprimido                  NaN   \n",
              "1526554                    comprimido                  NaN   \n",
              "1526555           solución inyectable                  NaN   \n",
              "1526556           solución inyectable                  NaN   \n",
              "\n",
              "        IND_ADMINISTRACION_2  \n",
              "0                        NaN  \n",
              "1                        NaN  \n",
              "2                        NaN  \n",
              "3                        NaN  \n",
              "4                        NaN  \n",
              "...                      ...  \n",
              "1526552                  NaN  \n",
              "1526553                  NaN  \n",
              "1526554                  NaN  \n",
              "1526555                  NaN  \n",
              "1526556                  NaN  \n",
              "\n",
              "[1526557 rows x 6 columns]"
            ],
            "text/html": [
              "\n",
              "  <div id=\"df-45f491da-cc55-4af6-8267-e08cadc6dfec\">\n",
              "    <div class=\"colab-df-container\">\n",
              "      <div>\n",
              "<style scoped>\n",
              "    .dataframe tbody tr th:only-of-type {\n",
              "        vertical-align: middle;\n",
              "    }\n",
              "\n",
              "    .dataframe tbody tr th {\n",
              "        vertical-align: top;\n",
              "    }\n",
              "\n",
              "    .dataframe thead th {\n",
              "        text-align: right;\n",
              "    }\n",
              "</style>\n",
              "<table border=\"1\" class=\"dataframe\">\n",
              "  <thead>\n",
              "    <tr style=\"text-align: right;\">\n",
              "      <th></th>\n",
              "      <th>CODIGO_MEDICAMENTO</th>\n",
              "      <th>PRES_DENOMINACION</th>\n",
              "      <th>RESUMEN</th>\n",
              "      <th>FORMA_FARMA</th>\n",
              "      <th>IND_ADMINISTRACION_1</th>\n",
              "      <th>IND_ADMINISTRACION_2</th>\n",
              "    </tr>\n",
              "  </thead>\n",
              "  <tbody>\n",
              "    <tr>\n",
              "      <th>0</th>\n",
              "      <td>FAJJ01015</td>\n",
              "      <td>NaN</td>\n",
              "      <td>1 COMPRIMIDO ORAL cada 12 horas durante 7 dias</td>\n",
              "      <td>NaN</td>\n",
              "      <td>NaN</td>\n",
              "      <td>NaN</td>\n",
              "    </tr>\n",
              "    <tr>\n",
              "      <th>1</th>\n",
              "      <td>FANN02016</td>\n",
              "      <td>PARACETAMOL 500 MG COMPRIMIDO</td>\n",
              "      <td>1 COMPRIMIDO ORAL cada 6 horas durante 3 dias</td>\n",
              "      <td>comprimido</td>\n",
              "      <td>NaN</td>\n",
              "      <td>NaN</td>\n",
              "    </tr>\n",
              "    <tr>\n",
              "      <th>2</th>\n",
              "      <td>FAMM01012</td>\n",
              "      <td>KETOROLACO 10 MG COMPRIMIDO</td>\n",
              "      <td>1 COMPRIMIDO ORAL cada 8 horas durante 3 dias</td>\n",
              "      <td>comprimido recubierto</td>\n",
              "      <td>NaN</td>\n",
              "      <td>NaN</td>\n",
              "    </tr>\n",
              "    <tr>\n",
              "      <th>3</th>\n",
              "      <td>FAMM01012</td>\n",
              "      <td>KETOROLACO 10 MG COMPRIMIDO</td>\n",
              "      <td>1 COMPRIMIDO ORAL cada 8 horas durante 5 dias</td>\n",
              "      <td>comprimido recubierto</td>\n",
              "      <td>NaN</td>\n",
              "      <td>NaN</td>\n",
              "    </tr>\n",
              "    <tr>\n",
              "      <th>4</th>\n",
              "      <td>FANN02016</td>\n",
              "      <td>PARACETAMOL 500 MG COMPRIMIDO</td>\n",
              "      <td>1 COMPRIMIDO ORAL cada 6 horas durante 3 dias</td>\n",
              "      <td>comprimido</td>\n",
              "      <td>NaN</td>\n",
              "      <td>NaN</td>\n",
              "    </tr>\n",
              "    <tr>\n",
              "      <th>...</th>\n",
              "      <td>...</td>\n",
              "      <td>...</td>\n",
              "      <td>...</td>\n",
              "      <td>...</td>\n",
              "      <td>...</td>\n",
              "      <td>...</td>\n",
              "    </tr>\n",
              "    <tr>\n",
              "      <th>1526552</th>\n",
              "      <td>FABB01002</td>\n",
              "      <td>ÁCIDO ACETILSALICÍLICO 100 MG COMPRIMIDO RECUB...</td>\n",
              "      <td>1 COMPRIMIDO ORAL diaria</td>\n",
              "      <td>comprimido gastrorresistente</td>\n",
              "      <td>NaN</td>\n",
              "      <td>NaN</td>\n",
              "    </tr>\n",
              "    <tr>\n",
              "      <th>1526553</th>\n",
              "      <td>FACC09001</td>\n",
              "      <td>CAPTOPRIL 25 MG COMPRIMIDO</td>\n",
              "      <td>1 COMPRIMIDO ORAL cada 8 horas</td>\n",
              "      <td>comprimido</td>\n",
              "      <td>NaN</td>\n",
              "      <td>NaN</td>\n",
              "    </tr>\n",
              "    <tr>\n",
              "      <th>1526554</th>\n",
              "      <td>FANN02016</td>\n",
              "      <td>PARACETAMOL 500 MG COMPRIMIDO</td>\n",
              "      <td>2 COMPRIMIDO ORAL cada 8 horas</td>\n",
              "      <td>comprimido</td>\n",
              "      <td>NaN</td>\n",
              "      <td>NaN</td>\n",
              "    </tr>\n",
              "    <tr>\n",
              "      <th>1526555</th>\n",
              "      <td>FAAA10002</td>\n",
              "      <td>INSULINA CRISTALINA HUMANA 100 U.I./ML SOLUCIO...</td>\n",
              "      <td>2 UNIDAD INTRAVENOSA cada 6 horas</td>\n",
              "      <td>solución inyectable</td>\n",
              "      <td>NaN</td>\n",
              "      <td>NaN</td>\n",
              "    </tr>\n",
              "    <tr>\n",
              "      <th>1526556</th>\n",
              "      <td>NaN</td>\n",
              "      <td>NaN</td>\n",
              "      <td>150.0 ml / 24 h  ( Velocidad  0.63 ml/h )INTR...</td>\n",
              "      <td>solución inyectable</td>\n",
              "      <td>NaN</td>\n",
              "      <td>NaN</td>\n",
              "    </tr>\n",
              "  </tbody>\n",
              "</table>\n",
              "<p>1526557 rows × 6 columns</p>\n",
              "</div>\n",
              "      <button class=\"colab-df-convert\" onclick=\"convertToInteractive('df-45f491da-cc55-4af6-8267-e08cadc6dfec')\"\n",
              "              title=\"Convert this dataframe to an interactive table.\"\n",
              "              style=\"display:none;\">\n",
              "        \n",
              "  <svg xmlns=\"http://www.w3.org/2000/svg\" height=\"24px\"viewBox=\"0 0 24 24\"\n",
              "       width=\"24px\">\n",
              "    <path d=\"M0 0h24v24H0V0z\" fill=\"none\"/>\n",
              "    <path d=\"M18.56 5.44l.94 2.06.94-2.06 2.06-.94-2.06-.94-.94-2.06-.94 2.06-2.06.94zm-11 1L8.5 8.5l.94-2.06 2.06-.94-2.06-.94L8.5 2.5l-.94 2.06-2.06.94zm10 10l.94 2.06.94-2.06 2.06-.94-2.06-.94-.94-2.06-.94 2.06-2.06.94z\"/><path d=\"M17.41 7.96l-1.37-1.37c-.4-.4-.92-.59-1.43-.59-.52 0-1.04.2-1.43.59L10.3 9.45l-7.72 7.72c-.78.78-.78 2.05 0 2.83L4 21.41c.39.39.9.59 1.41.59.51 0 1.02-.2 1.41-.59l7.78-7.78 2.81-2.81c.8-.78.8-2.07 0-2.86zM5.41 20L4 18.59l7.72-7.72 1.47 1.35L5.41 20z\"/>\n",
              "  </svg>\n",
              "      </button>\n",
              "      \n",
              "  <style>\n",
              "    .colab-df-container {\n",
              "      display:flex;\n",
              "      flex-wrap:wrap;\n",
              "      gap: 12px;\n",
              "    }\n",
              "\n",
              "    .colab-df-convert {\n",
              "      background-color: #E8F0FE;\n",
              "      border: none;\n",
              "      border-radius: 50%;\n",
              "      cursor: pointer;\n",
              "      display: none;\n",
              "      fill: #1967D2;\n",
              "      height: 32px;\n",
              "      padding: 0 0 0 0;\n",
              "      width: 32px;\n",
              "    }\n",
              "\n",
              "    .colab-df-convert:hover {\n",
              "      background-color: #E2EBFA;\n",
              "      box-shadow: 0px 1px 2px rgba(60, 64, 67, 0.3), 0px 1px 3px 1px rgba(60, 64, 67, 0.15);\n",
              "      fill: #174EA6;\n",
              "    }\n",
              "\n",
              "    [theme=dark] .colab-df-convert {\n",
              "      background-color: #3B4455;\n",
              "      fill: #D2E3FC;\n",
              "    }\n",
              "\n",
              "    [theme=dark] .colab-df-convert:hover {\n",
              "      background-color: #434B5C;\n",
              "      box-shadow: 0px 1px 3px 1px rgba(0, 0, 0, 0.15);\n",
              "      filter: drop-shadow(0px 1px 2px rgba(0, 0, 0, 0.3));\n",
              "      fill: #FFFFFF;\n",
              "    }\n",
              "  </style>\n",
              "\n",
              "      <script>\n",
              "        const buttonEl =\n",
              "          document.querySelector('#df-45f491da-cc55-4af6-8267-e08cadc6dfec button.colab-df-convert');\n",
              "        buttonEl.style.display =\n",
              "          google.colab.kernel.accessAllowed ? 'block' : 'none';\n",
              "\n",
              "        async function convertToInteractive(key) {\n",
              "          const element = document.querySelector('#df-45f491da-cc55-4af6-8267-e08cadc6dfec');\n",
              "          const dataTable =\n",
              "            await google.colab.kernel.invokeFunction('convertToInteractive',\n",
              "                                                     [key], {});\n",
              "          if (!dataTable) return;\n",
              "\n",
              "          const docLinkHtml = 'Like what you see? Visit the ' +\n",
              "            '<a target=\"_blank\" href=https://colab.research.google.com/notebooks/data_table.ipynb>data table notebook</a>'\n",
              "            + ' to learn more about interactive tables.';\n",
              "          element.innerHTML = '';\n",
              "          dataTable['output_type'] = 'display_data';\n",
              "          await google.colab.output.renderOutput(dataTable, element);\n",
              "          const docLink = document.createElement('div');\n",
              "          docLink.innerHTML = docLinkHtml;\n",
              "          element.appendChild(docLink);\n",
              "        }\n",
              "      </script>\n",
              "    </div>\n",
              "  </div>\n",
              "  "
            ]
          },
          "metadata": {},
          "execution_count": 5
        }
      ]
    },
    {
      "cell_type": "code",
      "source": [
        "main_db.loc[1526556]"
      ],
      "metadata": {
        "colab": {
          "base_uri": "https://localhost:8080/"
        },
        "id": "rVNZ7aRIIeSw",
        "outputId": "a3ffcdfa-47a0-4001-b719-04b17b33b2a0"
      },
      "execution_count": 6,
      "outputs": [
        {
          "output_type": "execute_result",
          "data": {
            "text/plain": [
              "index                                                             1528636\n",
              "PRES_FECHA                                            31/12/2020 23:35:52\n",
              "CODIGO                                                         AC00203401\n",
              "PATIENT_ID                                                         454484\n",
              "LINEA                                                                 HOS\n",
              "EPISCODE                                              HOS1410520200022188\n",
              "CODESPECIALIDAD                                                 A-4-71152\n",
              "ESPECIALIDAD                                            Neurología Adulto\n",
              "SALA                                                                  408\n",
              "CAMA                                                408-03 - Medio Adulto\n",
              "AREA_KEY                                                              HOS\n",
              "DIAGCODE                                                              I64\n",
              "DIAGDESC                Accidente vascular encefalico agudo no especif...\n",
              "CODIGO_MEDICAMENTO                                                    NaN\n",
              "ESTADO_PRESCR                                                      Pasivo\n",
              "PRES_DENOMINACION                                                     NaN\n",
              "RESUMEN                  150.0 ml / 24 h  ( Velocidad  0.63 ml/h )INTR...\n",
              "FORMA_FARMA                                           solución inyectable\n",
              "IND_ADMINISTRACION_1                                                  NaN\n",
              "IND_ADMINISTRACION_2                                                  NaN\n",
              "MEDICO_ID                                                        978096.0\n",
              "Name: 1526556, dtype: object"
            ]
          },
          "metadata": {},
          "execution_count": 6
        }
      ]
    },
    {
      "cell_type": "code",
      "source": [
        "print(main_db.loc[1526556,['RESUMEN']])"
      ],
      "metadata": {
        "colab": {
          "base_uri": "https://localhost:8080/"
        },
        "id": "X-GLNBEdxAOX",
        "outputId": "be3c36a6-ddb9-4a43-92ae-c0cb005686a8"
      },
      "execution_count": 7,
      "outputs": [
        {
          "output_type": "stream",
          "name": "stdout",
          "text": [
            "RESUMEN     150.0 ml / 24 h  ( Velocidad  0.63 ml/h )INTR...\n",
            "Name: 1526556, dtype: object\n"
          ]
        }
      ]
    },
    {
      "cell_type": "code",
      "source": [
        "print(len(main_db))\n",
        "print(len(main_db['RESUMEN'].unique()))"
      ],
      "metadata": {
        "colab": {
          "base_uri": "https://localhost:8080/"
        },
        "id": "cHzHYePnIzHE",
        "outputId": "58c371cf-8f90-4f16-9a7d-12ca81f82504"
      },
      "execution_count": 8,
      "outputs": [
        {
          "output_type": "stream",
          "name": "stdout",
          "text": [
            "1526557\n",
            "52778\n"
          ]
        }
      ]
    },
    {
      "cell_type": "code",
      "source": [
        "# Libreria Core del lab.\n",
        "import numpy as np\n",
        "!pip install --upgrade pandas\n",
        "!pip install xlrd\n",
        "!pip install openpyxl\n",
        "import pandas as pd\n",
        "import datetime\n",
        "from scipy import stats\n",
        "\n",
        "from IPython.display import display, Markdown, Latex\n",
        "\n",
        "#Libreria para plotear\n",
        "!pip install --upgrade plotly\n",
        "!pip install missingno\n",
        "import matplotlib.pyplot as plt\n",
        "import missingno as msno\n",
        "import plotly.express as px"
      ],
      "metadata": {
        "colab": {
          "base_uri": "https://localhost:8080/"
        },
        "id": "w87pILDPLBVL",
        "outputId": "76796b09-9232-4ac0-b64d-c7080644ab9b"
      },
      "execution_count": 9,
      "outputs": [
        {
          "output_type": "stream",
          "name": "stdout",
          "text": [
            "Looking in indexes: https://pypi.org/simple, https://us-python.pkg.dev/colab-wheels/public/simple/\n",
            "Requirement already satisfied: pandas in /usr/local/lib/python3.7/dist-packages (1.3.5)\n",
            "Requirement already satisfied: pytz>=2017.3 in /usr/local/lib/python3.7/dist-packages (from pandas) (2022.4)\n",
            "Requirement already satisfied: numpy>=1.17.3 in /usr/local/lib/python3.7/dist-packages (from pandas) (1.21.6)\n",
            "Requirement already satisfied: python-dateutil>=2.7.3 in /usr/local/lib/python3.7/dist-packages (from pandas) (2.8.2)\n",
            "Requirement already satisfied: six>=1.5 in /usr/local/lib/python3.7/dist-packages (from python-dateutil>=2.7.3->pandas) (1.15.0)\n",
            "Looking in indexes: https://pypi.org/simple, https://us-python.pkg.dev/colab-wheels/public/simple/\n",
            "Requirement already satisfied: xlrd in /usr/local/lib/python3.7/dist-packages (1.1.0)\n",
            "Looking in indexes: https://pypi.org/simple, https://us-python.pkg.dev/colab-wheels/public/simple/\n",
            "Requirement already satisfied: openpyxl in /usr/local/lib/python3.7/dist-packages (3.0.10)\n",
            "Requirement already satisfied: et-xmlfile in /usr/local/lib/python3.7/dist-packages (from openpyxl) (1.1.0)\n",
            "Looking in indexes: https://pypi.org/simple, https://us-python.pkg.dev/colab-wheels/public/simple/\n",
            "Requirement already satisfied: plotly in /usr/local/lib/python3.7/dist-packages (5.5.0)\n",
            "Collecting plotly\n",
            "  Downloading plotly-5.10.0-py2.py3-none-any.whl (15.2 MB)\n",
            "\u001b[K     |████████████████████████████████| 15.2 MB 4.8 MB/s \n",
            "\u001b[?25hRequirement already satisfied: tenacity>=6.2.0 in /usr/local/lib/python3.7/dist-packages (from plotly) (8.1.0)\n",
            "Installing collected packages: plotly\n",
            "  Attempting uninstall: plotly\n",
            "    Found existing installation: plotly 5.5.0\n",
            "    Uninstalling plotly-5.5.0:\n",
            "      Successfully uninstalled plotly-5.5.0\n",
            "Successfully installed plotly-5.10.0\n",
            "Looking in indexes: https://pypi.org/simple, https://us-python.pkg.dev/colab-wheels/public/simple/\n",
            "Requirement already satisfied: missingno in /usr/local/lib/python3.7/dist-packages (0.5.1)\n",
            "Requirement already satisfied: matplotlib in /usr/local/lib/python3.7/dist-packages (from missingno) (3.2.2)\n",
            "Requirement already satisfied: seaborn in /usr/local/lib/python3.7/dist-packages (from missingno) (0.11.2)\n",
            "Requirement already satisfied: numpy in /usr/local/lib/python3.7/dist-packages (from missingno) (1.21.6)\n",
            "Requirement already satisfied: scipy in /usr/local/lib/python3.7/dist-packages (from missingno) (1.7.3)\n",
            "Requirement already satisfied: cycler>=0.10 in /usr/local/lib/python3.7/dist-packages (from matplotlib->missingno) (0.11.0)\n",
            "Requirement already satisfied: kiwisolver>=1.0.1 in /usr/local/lib/python3.7/dist-packages (from matplotlib->missingno) (1.4.4)\n",
            "Requirement already satisfied: python-dateutil>=2.1 in /usr/local/lib/python3.7/dist-packages (from matplotlib->missingno) (2.8.2)\n",
            "Requirement already satisfied: pyparsing!=2.0.4,!=2.1.2,!=2.1.6,>=2.0.1 in /usr/local/lib/python3.7/dist-packages (from matplotlib->missingno) (3.0.9)\n",
            "Requirement already satisfied: typing-extensions in /usr/local/lib/python3.7/dist-packages (from kiwisolver>=1.0.1->matplotlib->missingno) (4.1.1)\n",
            "Requirement already satisfied: six>=1.5 in /usr/local/lib/python3.7/dist-packages (from python-dateutil>=2.1->matplotlib->missingno) (1.15.0)\n",
            "Requirement already satisfied: pandas>=0.23 in /usr/local/lib/python3.7/dist-packages (from seaborn->missingno) (1.3.5)\n",
            "Requirement already satisfied: pytz>=2017.3 in /usr/local/lib/python3.7/dist-packages (from pandas>=0.23->seaborn->missingno) (2022.4)\n"
          ]
        }
      ]
    },
    {
      "cell_type": "code",
      "source": [
        "from pandas.api.types import is_numeric_dtype\n",
        "from pandas.core.dtypes.common import is_datetime_or_timedelta_dtype\n",
        "\n",
        "\n",
        "def profile_serie(serie_in, n_samples=1000, random_state=42):\n",
        "    serie = serie_in.copy()\n",
        "\n",
        "    profile = pd.Series(dtype='object')\n",
        "    profile[\"Type\"] = serie.dtype\n",
        "    profile = pd.concat([profile, serie.describe(datetime_is_numeric=True)])\n",
        "\n",
        "    # profile = pd.Series([])\n",
        "\n",
        "    if is_numeric_dtype(serie):\n",
        "        profile[\"Negative\"] = (serie < 0).sum()\n",
        "        profile[\"Negative (%)\"] = (\n",
        "            str(round((serie < 0).sum() / len(serie) * 100, 2)) + \" %\"\n",
        "        )\n",
        "        profile[\"Zeros\"] = (serie == 0).sum()\n",
        "        profile[\"Zeros (%)\"] = (\n",
        "            str(round((serie == 0).sum() / len(serie) * 100, 2)) + \" %\"\n",
        "        )\n",
        "        profile[\"Kurt\"] = serie.kurt()\n",
        "        profile[\"Skew\"] = serie.skew()\n",
        "\n",
        "    profile[\" \"] = \" \"  # espacio\n",
        "\n",
        "    profile[\"Missing cells\"] = serie.isnull().sum()\n",
        "    profile[\"Missing cells (%)\"] = (\n",
        "        str(round(serie.isnull().sum() / len(serie) * 100, 2)) + \" %\"\n",
        "    )\n",
        "    profile[\"Duplicate rows\"] = serie.duplicated(False).sum()\n",
        "    profile[\"Duplicate rows (%)\"] = (\n",
        "        str(round(serie.duplicated(False).sum() / len(serie) * 100, 2)) + \" %\"\n",
        "    )\n",
        "    profile[\"Total size in memory\"] = str(serie.memory_usage(index=True)) + \" bytes\"\n",
        "\n",
        "    # profile = pd.concat([profile, description])\n",
        "\n",
        "    profile = profile.rename(\n",
        "        index={\n",
        "            \"count\": \"Number of observations\",\n",
        "            \"mean\": \"Mean\",\n",
        "            \"std\": \"Std\",\n",
        "            \"min\": \"Min\",\n",
        "            \"max\": \"Max\",\n",
        "            \"unique\": \"Unique\",\n",
        "            \"top\": \"Top\",\n",
        "            \"freq\": \"Freq\",\n",
        "        }\n",
        "    )\n",
        "    no_outliers_fig = None\n",
        "\n",
        "    if is_numeric_dtype(serie):\n",
        "\n",
        "        sampled_serie = serie.sample(n_samples, random_state=random_state)\n",
        "        fig = px.histogram(\n",
        "            sampled_serie, marginal=\"box\", title=f\"{serie.name} - With Outliers\"\n",
        "        )\n",
        "\n",
        "        no_outliers = sampled_serie.loc[(np.abs(stats.zscore(sampled_serie)) < 3)]\n",
        "        # zscore = https://es.wikipedia.org/wiki/Unidad_tipificada\n",
        "        \n",
        "        no_outliers_fig = px.histogram(\n",
        "            no_outliers, marginal=\"box\", title=f\"{serie.name} - Without Outliers\"\n",
        "        )\n",
        "\n",
        "    elif is_datetime_or_timedelta_dtype(serie):\n",
        "        sampled_serie = serie.sample(n_samples, random_state=random_state)\n",
        "        fig = px.histogram(sampled_serie, marginal=\"box\", title=f\"{serie.name}\")\n",
        "    \n",
        "    else:\n",
        "        count = (\n",
        "            serie.value_counts()[0:100]\n",
        "            .reset_index()\n",
        "            .rename(columns={\"index\": serie.name, serie.name: \"Count\"})\n",
        "        )\n",
        "        fig = px.bar(\n",
        "            x=count[serie.name].astype(str),\n",
        "            y=count[\"Count\"],\n",
        "            title=f\"100 Most common categories of {serie.name}\",\n",
        "        )\n",
        "    display(Markdown(f'## {serie.name} Profile'))\n",
        "    display(profile)\n",
        "    fig.show()\n",
        "\n",
        "    if no_outliers_fig:\n",
        "        no_outliers_fig.show()\n",
        "\n",
        "    # return fig, profile"
      ],
      "metadata": {
        "id": "QgphRjYAKyGZ"
      },
      "execution_count": 10,
      "outputs": []
    },
    {
      "cell_type": "code",
      "source": [
        "def missing_df(dataframe_in):\n",
        "    df = dataframe_in.copy()\n",
        "\n",
        "    list_type = []\n",
        "    for col in list(df.columns):\n",
        "        if is_numeric_dtype(df[col]) or \\\n",
        "        pd.core.dtypes.common.is_datetime_or_timedelta_dtype(df[col]):\n",
        "            list_type.append(col)\n",
        "    \n",
        "    display(Markdown('## Missing Matrix:'))\n",
        "    fig, ax = plt.subplots(figsize=[15, 10])\n",
        "    msno.matrix(df, ax=ax, sparkline=False)"
      ],
      "metadata": {
        "id": "BqG6CIrsLoCI"
      },
      "execution_count": 11,
      "outputs": []
    },
    {
      "cell_type": "code",
      "source": [
        "len(main_db['FORMA_FARMA'].unique())"
      ],
      "metadata": {
        "colab": {
          "base_uri": "https://localhost:8080/"
        },
        "id": "VvD1NwPEMKR5",
        "outputId": "6dc8152d-7fcb-4ba0-ea3d-6fe01e8f3ff0"
      },
      "execution_count": 12,
      "outputs": [
        {
          "output_type": "execute_result",
          "data": {
            "text/plain": [
              "87"
            ]
          },
          "metadata": {},
          "execution_count": 12
        }
      ]
    },
    {
      "cell_type": "code",
      "source": [
        "code_db = pd.read_excel('/content/PRINCIPIOS_ACTIVOS_MDS.xlsx')\n",
        "HLF = code_db.loc[:,['PRINCIPIO_ACTIVO','CODIGO_HLF']]"
      ],
      "metadata": {
        "id": "eQYummWVM2vT"
      },
      "execution_count": 13,
      "outputs": []
    },
    {
      "cell_type": "code",
      "source": [
        "HLF2 = HLF['CODIGO_HLF'].str.split(', ')\n",
        "HLF_list = []\n",
        "for i in range(len(HLF2)):\n",
        "  HLF_list = HLF_list + HLF2[i] \n",
        "try:\n",
        "  HLF_list.remove('')\n",
        "except:\n",
        "  pass\n",
        "HLF_name = []\n",
        "for elem in HLF_list:\n",
        "  HLF_name = HLF_name + HLF[HLF['CODIGO_HLF'].str.contains(elem)]['PRINCIPIO_ACTIVO'].values.tolist()"
      ],
      "metadata": {
        "id": "7iomAPDIZsTL"
      },
      "execution_count": 14,
      "outputs": []
    },
    {
      "cell_type": "code",
      "source": [
        "HLF_df = pd.DataFrame()\n",
        "HLF_df['CODIGO_MEDICAMENTO'] = HLF_list\n",
        "HLF_df['PRINCIPIO_ACTIVO'] = HLF_name\n",
        "HLF_df"
      ],
      "metadata": {
        "colab": {
          "base_uri": "https://localhost:8080/",
          "height": 424
        },
        "id": "0ui-twfydp6e",
        "outputId": "6a2c9e5a-2182-4612-fb6d-692890349859"
      },
      "execution_count": 15,
      "outputs": [
        {
          "output_type": "execute_result",
          "data": {
            "text/plain": [
              "    CODIGO_MEDICAMENTO    PRINCIPIO_ACTIVO\n",
              "0            FAJJ05004  ABACAVIR (SULFATO)\n",
              "1            FABB01001        ACENOCUMAROL\n",
              "2            FAAA12016   ACETATO DE CALCIO\n",
              "3            FASS01001       ACETAZOLAMIDA\n",
              "4            FAVV03008      ACETILCISTEINA\n",
              "..                 ...                 ...\n",
              "571          FAJJ05039          ZIDOVUDINA\n",
              "572          FAJJ05040          ZIDOVUDINA\n",
              "573          FAAA12011        ZINC SULFATO\n",
              "574          FANN05035         ZIPRASIDONA\n",
              "575          FANN05036           ZOPICLONA\n",
              "\n",
              "[576 rows x 2 columns]"
            ],
            "text/html": [
              "\n",
              "  <div id=\"df-d13c7062-746e-460e-97f6-a136497c79c6\">\n",
              "    <div class=\"colab-df-container\">\n",
              "      <div>\n",
              "<style scoped>\n",
              "    .dataframe tbody tr th:only-of-type {\n",
              "        vertical-align: middle;\n",
              "    }\n",
              "\n",
              "    .dataframe tbody tr th {\n",
              "        vertical-align: top;\n",
              "    }\n",
              "\n",
              "    .dataframe thead th {\n",
              "        text-align: right;\n",
              "    }\n",
              "</style>\n",
              "<table border=\"1\" class=\"dataframe\">\n",
              "  <thead>\n",
              "    <tr style=\"text-align: right;\">\n",
              "      <th></th>\n",
              "      <th>CODIGO_MEDICAMENTO</th>\n",
              "      <th>PRINCIPIO_ACTIVO</th>\n",
              "    </tr>\n",
              "  </thead>\n",
              "  <tbody>\n",
              "    <tr>\n",
              "      <th>0</th>\n",
              "      <td>FAJJ05004</td>\n",
              "      <td>ABACAVIR (SULFATO)</td>\n",
              "    </tr>\n",
              "    <tr>\n",
              "      <th>1</th>\n",
              "      <td>FABB01001</td>\n",
              "      <td>ACENOCUMAROL</td>\n",
              "    </tr>\n",
              "    <tr>\n",
              "      <th>2</th>\n",
              "      <td>FAAA12016</td>\n",
              "      <td>ACETATO DE CALCIO</td>\n",
              "    </tr>\n",
              "    <tr>\n",
              "      <th>3</th>\n",
              "      <td>FASS01001</td>\n",
              "      <td>ACETAZOLAMIDA</td>\n",
              "    </tr>\n",
              "    <tr>\n",
              "      <th>4</th>\n",
              "      <td>FAVV03008</td>\n",
              "      <td>ACETILCISTEINA</td>\n",
              "    </tr>\n",
              "    <tr>\n",
              "      <th>...</th>\n",
              "      <td>...</td>\n",
              "      <td>...</td>\n",
              "    </tr>\n",
              "    <tr>\n",
              "      <th>571</th>\n",
              "      <td>FAJJ05039</td>\n",
              "      <td>ZIDOVUDINA</td>\n",
              "    </tr>\n",
              "    <tr>\n",
              "      <th>572</th>\n",
              "      <td>FAJJ05040</td>\n",
              "      <td>ZIDOVUDINA</td>\n",
              "    </tr>\n",
              "    <tr>\n",
              "      <th>573</th>\n",
              "      <td>FAAA12011</td>\n",
              "      <td>ZINC SULFATO</td>\n",
              "    </tr>\n",
              "    <tr>\n",
              "      <th>574</th>\n",
              "      <td>FANN05035</td>\n",
              "      <td>ZIPRASIDONA</td>\n",
              "    </tr>\n",
              "    <tr>\n",
              "      <th>575</th>\n",
              "      <td>FANN05036</td>\n",
              "      <td>ZOPICLONA</td>\n",
              "    </tr>\n",
              "  </tbody>\n",
              "</table>\n",
              "<p>576 rows × 2 columns</p>\n",
              "</div>\n",
              "      <button class=\"colab-df-convert\" onclick=\"convertToInteractive('df-d13c7062-746e-460e-97f6-a136497c79c6')\"\n",
              "              title=\"Convert this dataframe to an interactive table.\"\n",
              "              style=\"display:none;\">\n",
              "        \n",
              "  <svg xmlns=\"http://www.w3.org/2000/svg\" height=\"24px\"viewBox=\"0 0 24 24\"\n",
              "       width=\"24px\">\n",
              "    <path d=\"M0 0h24v24H0V0z\" fill=\"none\"/>\n",
              "    <path d=\"M18.56 5.44l.94 2.06.94-2.06 2.06-.94-2.06-.94-.94-2.06-.94 2.06-2.06.94zm-11 1L8.5 8.5l.94-2.06 2.06-.94-2.06-.94L8.5 2.5l-.94 2.06-2.06.94zm10 10l.94 2.06.94-2.06 2.06-.94-2.06-.94-.94-2.06-.94 2.06-2.06.94z\"/><path d=\"M17.41 7.96l-1.37-1.37c-.4-.4-.92-.59-1.43-.59-.52 0-1.04.2-1.43.59L10.3 9.45l-7.72 7.72c-.78.78-.78 2.05 0 2.83L4 21.41c.39.39.9.59 1.41.59.51 0 1.02-.2 1.41-.59l7.78-7.78 2.81-2.81c.8-.78.8-2.07 0-2.86zM5.41 20L4 18.59l7.72-7.72 1.47 1.35L5.41 20z\"/>\n",
              "  </svg>\n",
              "      </button>\n",
              "      \n",
              "  <style>\n",
              "    .colab-df-container {\n",
              "      display:flex;\n",
              "      flex-wrap:wrap;\n",
              "      gap: 12px;\n",
              "    }\n",
              "\n",
              "    .colab-df-convert {\n",
              "      background-color: #E8F0FE;\n",
              "      border: none;\n",
              "      border-radius: 50%;\n",
              "      cursor: pointer;\n",
              "      display: none;\n",
              "      fill: #1967D2;\n",
              "      height: 32px;\n",
              "      padding: 0 0 0 0;\n",
              "      width: 32px;\n",
              "    }\n",
              "\n",
              "    .colab-df-convert:hover {\n",
              "      background-color: #E2EBFA;\n",
              "      box-shadow: 0px 1px 2px rgba(60, 64, 67, 0.3), 0px 1px 3px 1px rgba(60, 64, 67, 0.15);\n",
              "      fill: #174EA6;\n",
              "    }\n",
              "\n",
              "    [theme=dark] .colab-df-convert {\n",
              "      background-color: #3B4455;\n",
              "      fill: #D2E3FC;\n",
              "    }\n",
              "\n",
              "    [theme=dark] .colab-df-convert:hover {\n",
              "      background-color: #434B5C;\n",
              "      box-shadow: 0px 1px 3px 1px rgba(0, 0, 0, 0.15);\n",
              "      filter: drop-shadow(0px 1px 2px rgba(0, 0, 0, 0.3));\n",
              "      fill: #FFFFFF;\n",
              "    }\n",
              "  </style>\n",
              "\n",
              "      <script>\n",
              "        const buttonEl =\n",
              "          document.querySelector('#df-d13c7062-746e-460e-97f6-a136497c79c6 button.colab-df-convert');\n",
              "        buttonEl.style.display =\n",
              "          google.colab.kernel.accessAllowed ? 'block' : 'none';\n",
              "\n",
              "        async function convertToInteractive(key) {\n",
              "          const element = document.querySelector('#df-d13c7062-746e-460e-97f6-a136497c79c6');\n",
              "          const dataTable =\n",
              "            await google.colab.kernel.invokeFunction('convertToInteractive',\n",
              "                                                     [key], {});\n",
              "          if (!dataTable) return;\n",
              "\n",
              "          const docLinkHtml = 'Like what you see? Visit the ' +\n",
              "            '<a target=\"_blank\" href=https://colab.research.google.com/notebooks/data_table.ipynb>data table notebook</a>'\n",
              "            + ' to learn more about interactive tables.';\n",
              "          element.innerHTML = '';\n",
              "          dataTable['output_type'] = 'display_data';\n",
              "          await google.colab.output.renderOutput(dataTable, element);\n",
              "          const docLink = document.createElement('div');\n",
              "          docLink.innerHTML = docLinkHtml;\n",
              "          element.appendChild(docLink);\n",
              "        }\n",
              "      </script>\n",
              "    </div>\n",
              "  </div>\n",
              "  "
            ]
          },
          "metadata": {},
          "execution_count": 15
        }
      ]
    },
    {
      "cell_type": "code",
      "source": [
        "df = main_db.join(HLF_df.set_index('CODIGO_MEDICAMENTO'), on='CODIGO_MEDICAMENTO')"
      ],
      "metadata": {
        "id": "9AogIeROZtnZ"
      },
      "execution_count": 16,
      "outputs": []
    },
    {
      "cell_type": "code",
      "source": [
        "missing_df(df)"
      ],
      "metadata": {
        "colab": {
          "base_uri": "https://localhost:8080/",
          "height": 721
        },
        "id": "lNWuyWNMiToB",
        "outputId": "87f88edc-200c-46d3-cc08-1ffc56569359"
      },
      "execution_count": 17,
      "outputs": [
        {
          "output_type": "display_data",
          "data": {
            "text/plain": [
              "<IPython.core.display.Markdown object>"
            ],
            "text/markdown": "## Missing Matrix:"
          },
          "metadata": {}
        },
        {
          "output_type": "display_data",
          "data": {
            "text/plain": [
              "<Figure size 1080x720 with 1 Axes>"
            ],
            "image/png": "[encoded data removed]"
          },
          "metadata": {
            "needs_background": "light"
          }
        }
      ]
    },
    {
      "cell_type": "code",
      "source": [
        "print(df['CODIGO_MEDICAMENTO'].isnull().sum())\n",
        "print(df['PRINCIPIO_ACTIVO'].isnull().sum())"
      ],
      "metadata": {
        "colab": {
          "base_uri": "https://localhost:8080/"
        },
        "id": "dzHj5-IOWbDy",
        "outputId": "d749fb93-7561-434f-ea0f-12eaa65286f2"
      },
      "execution_count": 29,
      "outputs": [
        {
          "output_type": "stream",
          "name": "stdout",
          "text": [
            "18379\n",
            "50437\n"
          ]
        }
      ]
    },
    {
      "cell_type": "code",
      "source": [
        " count_PA = df['PRINCIPIO_ACTIVO'].value_counts()"
      ],
      "metadata": {
        "id": "KRiTAuYAYrbh"
      },
      "execution_count": 33,
      "outputs": []
    },
    {
      "cell_type": "code",
      "source": [
        "count_PA = df['PRINCIPIO_ACTIVO'].value_counts().head(11)\n",
        "count_PA"
      ],
      "metadata": {
        "colab": {
          "base_uri": "https://localhost:8080/"
        },
        "id": "5fZa8AafZf96",
        "outputId": "86661cb5-e820-4b82-b90d-2813f44f3f06"
      },
      "execution_count": 67,
      "outputs": [
        {
          "output_type": "execute_result",
          "data": {
            "text/plain": [
              "PARACETAMOL         133030\n",
              "OMEPRAZOL            73045\n",
              "KETOPROFENO          58528\n",
              "ENOXAPARINA          49301\n",
              "METAMIZOL SODICO     40893\n",
              "CEFTRIAXONA          40773\n",
              "SODIO CLORURO        35662\n",
              "KETOROLACO           33855\n",
              "ONDANSETRON          32254\n",
              "FUROSEMIDA           32064\n",
              "HEPARINA SÓDICA      25063\n",
              "Name: PRINCIPIO_ACTIVO, dtype: int64"
            ]
          },
          "metadata": {},
          "execution_count": 67
        }
      ]
    },
    {
      "cell_type": "code",
      "source": [
        "#df['PRINCIPIO_ACTIVO'].unique()[1:12]\n",
        "plt.figure\n",
        "plt.title('Principios Activos más frecuentes')\n",
        "count_PA.plot.bar(x='Princio Activo', y='Repeticiones', rot=90)\n",
        "plt.show()"
      ],
      "metadata": {
        "colab": {
          "base_uri": "https://localhost:8080/",
          "height": 372
        },
        "id": "hfL4xdnic6HY",
        "outputId": "a9571d73-eae5-463e-cabe-71ddb357bef4"
      },
      "execution_count": 73,
      "outputs": [
        {
          "output_type": "display_data",
          "data": {
            "text/plain": [
              "<Figure size 432x288 with 1 Axes>"
            ],
            "image/png": "[encoded data removed]"
          },
          "metadata": {
            "needs_background": "light"
          }
        }
      ]
    },
    {
      "cell_type": "code",
      "source": [],
      "metadata": {
        "id": "fR59PlMddFvs"
      },
      "execution_count": null,
      "outputs": []
    }
  ]
}